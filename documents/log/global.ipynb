{
 "cells": [
  {
   "cell_type": "markdown",
   "metadata": {},
   "source": [
    "# Welcome to the \n",
    "```\n",
    "   _  _____  ___  ___  _____________  ____  _  __\n",
    "  / |/ / _ \\/ _ \\/ _ \\/  _/_  __/ _ \\/ __ \\/ |/ /\n",
    " /    / , _/ // / // // /  / / / , _/ /_/ /    / \n",
    "/_/|_/_/|_/____/____/___/ /_/ /_/|_|\\____/_/|_/  \n",
    "                                                 \n",
    "```                                              \n",
    "\n",
    "<i>\"Let's do some science.\"</i>\n",
    "\n",
    "\n",
    "\n",
    "Wait, why's this a Jupyter notebook? Great question - I'm not sure.\n",
    "\n",
    "Todo: \n",
    "- Chamber assembly price \n",
    "- distance travelled per period\n",
    "- ICP skin depth\n",
    "- [] Optimize number of turns to current\n",
    "- [] enthalpy of vaporization\n"
   ]
  },
  {
   "cell_type": "code",
   "execution_count": 128,
   "metadata": {},
   "outputs": [],
   "source": [
    "%matplotlib nbagg\n",
    "\n",
    "import matplotlib.pyplot as plt\n",
    "\n",
    "from mendeleev import element\n",
    "from thermo.chemical import Chemical\n",
    "import sympy.physics.units as units\n",
    "import scipy.constants as constants\n",
    "amu = constants.physical_constants[\"atomic mass unit-kilogram relationship\"][0]\n",
    "import math\n",
    "import sys\n",
    "import numpy as np\n",
    "\n",
    "sys.path.insert(0, '../../files/ionprinter/simulation/utilities/')\n",
    "import util\n"
   ]
  },
  {
   "cell_type": "markdown",
   "metadata": {},
   "source": [
    "# Inputs"
   ]
  },
  {
   "cell_type": "code",
   "execution_count": 129,
   "metadata": {
    "scrolled": true
   },
   "outputs": [],
   "source": [
    "#GLOBALS\n",
    "\n",
    "print_species = element('Aluminum')\n",
    "\n",
    "print_speed_g_h = 10.0 #g/hour\n",
    "\n",
    "#convert to kg/s, kick CGS to the curb.\n",
    "print_speed = print_speed_g_h/1000.0\n",
    "print_speed /= 3600.0\n",
    "\n",
    "number_of_bowties = 512.0 #bowties/printer - an excellent unit\n",
    "\n",
    "#hold or cut bowties\n",
    "\n",
    "build_platform_distance = 0.03 #m\n",
    "\n",
    "#BOWTIE\n",
    "\n",
    "bowtie_nozzle_radius = 0.00033#m\n",
    "\n",
    "bowtie_hot_area = 1e-6 #m^2\n",
    "graphite_emissivity = 0.95\n",
    "\n",
    "bowtie_temperature = 1400.0 #Kelvin\n",
    "\n",
    "\n",
    "#CHAMBER\n",
    "\n",
    "ionization_chamber_radius = 0.003 #m\n",
    "ionization_chamber_length = 0.01 #m\n",
    "\n",
    "acceleration_gap = 0.00025 #m\n",
    "acceleration_voltage = 100 #V\n",
    "ionization_efficiency = 0.3 \n",
    "\n",
    "ICP_frequency = 1000000 #hz\n",
    "ICP_peak_B = 0.05 #T\n",
    "\n",
    "# CATHODE\n",
    "\n",
    "cathode_power_consumption = 17.5 #\"efficiency\", watts per amp!\n",
    "cathode_wire_diameter = 0.0001 #m\n",
    "cathode_emission = 4.0\n",
    "\n",
    "#IONIZATION E-BEAM\n",
    "\n",
    "e_beam_energy = 100.0 #eV\n",
    "\n",
    "\n",
    "# import pandas as pd\n",
    "# data = [[1, 2], [3, 4]]\n",
    "# pd.DataFrame(data, columns=[\"Foo\", \"Bar\"])\n",
    "\n",
    "R_constant = constants.Boltzmann*constants.Avogadro\n"
   ]
  },
  {
   "cell_type": "code",
   "execution_count": null,
   "metadata": {},
   "outputs": [],
   "source": []
  },
  {
   "cell_type": "code",
   "execution_count": null,
   "metadata": {},
   "outputs": [],
   "source": []
  },
  {
   "cell_type": "markdown",
   "metadata": {},
   "source": [
    "# Vacuum level\n",
    "\n",
    "PV=NRT to get chamber number density, then MFP."
   ]
  },
  {
   "cell_type": "code",
   "execution_count": 130,
   "metadata": {},
   "outputs": [],
   "source": [
    "# vacuum_gas_atomic_radius = 65e-9 #nitrogen\n",
    "# vacuum_gas_cross_section = math.pi*(chamber_gas_atomic_radius**2.0)\n",
    "# vacuum_gas_pressure = 1e-4 #Pa\n",
    "\n",
    "# chamber_number_density (vacuum_gas_pressure/(273.15))=N\n",
    "\n",
    "# ionization_electron_mean_free_path = 1.0/(nozzle_number_density*)\n",
    "\n",
    "# ionization_electrons_per_neutral = bowtie_nozzle_radius/ionization_electron_mean_free_path"
   ]
  },
  {
   "cell_type": "markdown",
   "metadata": {},
   "source": [
    "# Neutral stuff."
   ]
  },
  {
   "cell_type": "code",
   "execution_count": 131,
   "metadata": {
    "scrolled": false
   },
   "outputs": [
    {
     "name": "stdout",
     "output_type": "stream",
     "text": [
      "Atoms per second: \n",
      "per chamber 1.2109e+17 atoms/s \n",
      "total 6.1999e+19 atoms/s\n",
      "\n",
      "Total moles per second: 0.00010295 M/s\n",
      "Deposited volume: 3.7052 cm^3/h\n",
      "Total beam current: 9.9333 Amps\n",
      "Per-chamber current: 0.019401 Amps\n"
     ]
    }
   ],
   "source": [
    "#Total n of atoms that must be emitted to achieve desired mass deposition per hour\n",
    "atoms_per_second = print_speed/(print_species.mass*amu)\n",
    "\n",
    "moles_per_second = atoms_per_second/constants.Avogadro\n",
    "\n",
    "#Volume deposited per hour.\n",
    "hourly_print_volume = ((print_speed*3600.0)/(print_species.density*1000.0))/1.0e-6\n",
    "\n",
    "total_beam_current = atoms_per_second*constants.elementary_charge\n",
    "per_chamber_beam_current = total_beam_current/number_of_bowties\n",
    "\n",
    "print(\"Atoms per second: \\nper chamber %0.5g atoms/s \\ntotal %0.5g atoms/s\\n\" % ((atoms_per_second/number_of_bowties),\n",
    "                                           atoms_per_second))\n",
    "print(\"Total moles per second: %0.5g M/s\" % moles_per_second)\n",
    "print(\"Deposited volume: %0.5g cm^3/h\" % hourly_print_volume)\n",
    "print(\"Total beam current: %0.5g Amps\" % total_beam_current)\n",
    "print(\"Per-chamber current: %0.5g Amps\" % per_chamber_beam_current)\n",
    "\n",
    "#I find it infinitely amusing that \"40 amps of aluminum\" is \"40 grams per second of aluminum\" within 0.6%"
   ]
  },
  {
   "cell_type": "markdown",
   "metadata": {
    "collapsed": true
   },
   "source": [
    "## RMS neutral velocity\n",
    "\n",
    "Determine RMS neutral gas velocity at a certain temperature:\n",
    "\n",
    "$$\\sqrt{\\frac{3RT}{m}}$$"
   ]
  },
  {
   "cell_type": "code",
   "execution_count": 132,
   "metadata": {
    "scrolled": true
   },
   "outputs": [
    {
     "name": "stdout",
     "output_type": "stream",
     "text": [
      "RMS particle velocity: 1137.6 m/s\n",
      "RMS particle energy: 0.18096 eV\n"
     ]
    }
   ],
   "source": [
    "bowtie_rms_neutral_velocity = math.sqrt((3*constants.Boltzmann*bowtie_temperature)/(print_species.mass*amu))\n",
    "bowtie_rms_energy = 0.5*print_species.mass*amu*(bowtie_rms_neutral_velocity**2.0)\n",
    "print(\"RMS particle velocity: %0.5g m/s\" % bowtie_rms_neutral_velocity)\n",
    "print(\"RMS particle energy: %0.5g eV\" % (bowtie_rms_energy/constants.electron_volt))"
   ]
  },
  {
   "cell_type": "markdown",
   "metadata": {},
   "source": [
    "## Bowtie nozzle gas pressure\n",
    "\n",
    "Determine approximate neutral gas pressure in a virtual volume \"1 thermal velocity\" long via a simple \n",
    "\n",
    "$$\\text{PV}=\\text{nRT}$$\n",
    "\n",
    "(I'm not totally sure that you can do this.)\n",
    "\n",
    "Also approximately determine mean free path with the neutral Van Der Waals radius."
   ]
  },
  {
   "cell_type": "code",
   "execution_count": 133,
   "metadata": {
    "scrolled": true
   },
   "outputs": [
    {
     "name": "stdout",
     "output_type": "stream",
     "text": [
      "Bowtie nozzle pressure: 6.0136 Pa\n",
      "Approximate nozzle mean free path: 0.03022 m\n",
      "nrho: 1.5929e+23\n",
      "Knudsen number: local 91.575, global 1.0073\n",
      "Worst-case space charge density: 3.1112e+20\n"
     ]
    }
   ],
   "source": [
    "\n",
    "#volume nozzle area times 1 thermal neutral injection velocity long\n",
    "nozzle_virtual_volume = (math.pi*(bowtie_nozzle_radius**2))*bowtie_rms_neutral_velocity\n",
    "\n",
    "bowtie_nozzle_pressure = ((moles_per_second/number_of_bowties)*R_constant*bowtie_temperature)/(nozzle_virtual_volume)\n",
    "\n",
    "mean_free_path = 1.0/(((atoms_per_second/number_of_bowties)/nozzle_virtual_volume)*math.pi*((print_species.vdw_radius*1e-12)**2))\n",
    "\n",
    "nozzle_number_density = (atoms_per_second/nozzle_virtual_volume)\n",
    "\n",
    "print(\"Bowtie nozzle pressure: %0.5g Pa\" % bowtie_nozzle_pressure)\n",
    "print(\"Approximate nozzle mean free path: %0.5g m\" % mean_free_path)\n",
    "\n",
    "#number density of atoms within that virtual volume - useful for DSMC stuff\n",
    "print(\"nrho: %0.5g\" % (nozzle_number_density))\n",
    "\n",
    "print(\"Knudsen number: local %0.5g, global %0.5g\" % ((mean_free_path/bowtie_nozzle_radius),\n",
    "                                                     (mean_free_path/build_platform_distance)))\n",
    "\n",
    "print(\"Worst-case space charge density: %0.5g\" % ((atoms_per_second/number_of_bowties)/nozzle_virtual_volume))"
   ]
  },
  {
   "cell_type": "markdown",
   "metadata": {},
   "source": [
    "## Actual vapor pressure\n",
    "\n",
    "Now a rough approximation of the actual print species vapor pressure one can expect to find at that temperature:\n",
    "\n",
    "(likely off by at least 50% - https://www.iap.tuwien.ac.at/www/surface/vapor_pressure is a more accurate source)"
   ]
  },
  {
   "cell_type": "code",
   "execution_count": 134,
   "metadata": {
    "scrolled": true
   },
   "outputs": [
    {
     "name": "stdout",
     "output_type": "stream",
     "text": [
      "Approx. species vapor pressure: 0.47493 Pa\n"
     ]
    }
   ],
   "source": [
    "vapor_pressure = Chemical(print_species.name).VaporPressure.calculate(bowtie_temperature,\"BOILING_CRITICAL\") # takes temp in K, returns pressure in P\n",
    "print(\"Approx. species vapor pressure: %0.5g Pa\" % vapor_pressure)"
   ]
  },
  {
   "cell_type": "markdown",
   "metadata": {},
   "source": [
    "## Bowtie radiation power loss\n",
    "\n",
    "Bowtie IR/Vis radiation power by the Stefan-Boltzmann law:"
   ]
  },
  {
   "cell_type": "code",
   "execution_count": 135,
   "metadata": {
    "scrolled": true
   },
   "outputs": [
    {
     "name": "stdout",
     "output_type": "stream",
     "text": [
      "Bowtie power: per 0.20694 W, total 105.95 W\n"
     ]
    }
   ],
   "source": [
    "per_bowtie_power = (bowtie_hot_area * graphite_emissivity * constants.Stefan_Boltzmann * (bowtie_temperature**4.0))\n",
    "total_bowtie_power = per_bowtie_power*number_of_bowties\n",
    "\n",
    "print(\"Bowtie power: per %0.5g W, total %0.5g W\" % (per_bowtie_power,total_bowtie_power))\n"
   ]
  },
  {
   "cell_type": "markdown",
   "metadata": {},
   "source": [
    "# Acceleration"
   ]
  },
  {
   "cell_type": "code",
   "execution_count": 136,
   "metadata": {
    "scrolled": false
   },
   "outputs": [
    {
     "name": "stdout",
     "output_type": "stream",
     "text": [
      "Accel. vel: 26743 m/s\n",
      "Accel. power per chamber: 1.9401 W, total 993.33 W \n"
     ]
    }
   ],
   "source": [
    "acceleration_velocity = math.sqrt((2.0*acceleration_voltage*constants.electron_volt)/(print_species.mass*amu))\n",
    "\n",
    "print(\"Accel. vel: %0.5g m/s\" % acceleration_velocity)\n",
    "print(\"Accel. power per chamber: %0.5g W, total %0.5g W \" % (acceleration_voltage*per_chamber_beam_current\n",
    "                                                        ,acceleration_voltage*total_beam_current))"
   ]
  },
  {
   "cell_type": "markdown",
   "metadata": {},
   "source": [
    "# Ionization"
   ]
  },
  {
   "cell_type": "markdown",
   "metadata": {},
   "source": [
    "### Power\n",
    "Simple first-ionization power consumption estimate:"
   ]
  },
  {
   "cell_type": "code",
   "execution_count": 137,
   "metadata": {
    "scrolled": false
   },
   "outputs": [
    {
     "name": "stdout",
     "output_type": "stream",
     "text": [
      "Ionization power: per ~0.11613 W, total 59.458 W\n"
     ]
    }
   ],
   "source": [
    "per_chamber_ionization_power = ((atoms_per_second/number_of_bowties)*print_species.ionenergies[1]*constants.electron_volt)\n",
    "\n",
    "total_ionization_power = per_chamber_ionization_power*number_of_bowties\n",
    "\n",
    "ionization_chamber_area = math.pi*(ionization_chamber_radius**2.0)\n",
    "\n",
    "print(\"Ionization power: per ~%0.5g W, total %0.5g W\" % (per_chamber_ionization_power,total_ionization_power))"
   ]
  },
  {
   "cell_type": "markdown",
   "metadata": {},
   "source": [
    "### E-beam impact\n",
    "\n",
    "An equation that accurately describes ionization cross section in relation to electron energy does not appear to have been developed.\n",
    "\n",
    "Here's a paper from antiquity that describes the situation quite well.\n",
    "\n",
    "Lotz, Wolfgang. \"Electron-impact ionization cross-sections for atoms up to Z= 108.\" Zeitschrift für Physik A Hadrons and nuclei 232.2 (1970): 101-107.\n",
    "\n",
    "https://link.springer.com/content/pdf/10.1007/BF01393132.pdf\n",
    "\n",
    "These values can be assumed to be half an order of magnitude off.\n",
    "\n",
    "If we assume a transverse beam of electrons, \n",
    "\n",
    "$$ \\lambda=\\frac{1}{\\rho\\sigma}$$\n",
    "\n",
    "where $\\sigma$ is the collision cross section, $\\rho$ is the local number density (neutral atoms/m^3), and $\\lambda$ is the electron MFP.\n",
    "\n",
    "We can multiply this MFP by the beam diameter (simplifying to a square beam, of course) to get the odds that a certain electron will collide with a particle in the beam.\n",
    "\n",
    "\n",
    "\n",
    "This is vastly oversimplified, of course - we're ignoring the townsend secondaries entirely, second- and third- ionizations are likely, and there will probably be some weird space charge compensation effects from the nearby ionized particles - but we've got E-beam current to spare.\n",
    "\n",
    "A measurement of the ionization cross-section\n",
    "of helium ions by electron impact\n",
    "\n",
    "THE IONIZATION OF HELIUM, NEON,\n",
    "AND ARGON BY ELECTRON IMPACT \n",
    "\n",
    "Todo: calculate values per-element based on electron configuration "
   ]
  },
  {
   "cell_type": "markdown",
   "metadata": {},
   "source": [
    "### First ionization"
   ]
  },
  {
   "cell_type": "code",
   "execution_count": 152,
   "metadata": {
    "scrolled": false
   },
   "outputs": [
    {
     "name": "stdout",
     "output_type": "stream",
     "text": [
      "Ionization mean-free-path ~0.00020926m\n",
      "Required e-beam to heavy-beam factor: ~1.577x \n"
     ]
    }
   ],
   "source": [
    "impact_cross_section = 3.0e-20 #m^2\n",
    "#value for aluminum approx 3.0e-20\n",
    "\n",
    "ionization_electron_mean_free_path = 1.0/(nozzle_number_density*impact_cross_section)\n",
    "\n",
    "ionization_electrons_per_neutral = bowtie_nozzle_radius/ionization_electron_mean_free_path\n",
    "\n",
    "print(\"Ionization mean-free-path ~%0.5gm\" % (ionization_electron_mean_free_path))\n",
    "print(\"Required e-beam to heavy-beam factor: ~%0.5gx \" % (ionization_electrons_per_neutral))"
   ]
  },
  {
   "cell_type": "markdown",
   "metadata": {},
   "source": [
    "### Second ionization \n",
    "\n",
    "\"Electron-Impact Ionization Cross-Sections and Ionization Rate Coefficients for Atoms and Ions\" http://adsbit.harvard.edu//full/1967ApJS...14..207L/0000211.000.html\n",
    "\n",
    "The second ionization cross sections seem to "
   ]
  },
  {
   "cell_type": "code",
   "execution_count": null,
   "metadata": {},
   "outputs": [],
   "source": [
    "# second_impact_cross_section = 3.0e-20 #m^2\n",
    "\n",
    "# ionization_electron_mean_free_path = 1.0/(nozzle_number_density*impact_cross_section)\n",
    "\n",
    "# ionization_electrons_per_neutral = bowtie_nozzle_radius/ionization_electron_mean_free_path\n",
    "\n",
    "# print(\"Ionization mean-free-path ~%0.5gm\" % (ionization_electron_mean_free_path))\n",
    "# print(\"Required e-beam to heavy-beam factor: ~%0.5gx \" % (ionization_electrons_per_neutral))"
   ]
  },
  {
   "cell_type": "markdown",
   "metadata": {},
   "source": [
    "(old, ignore) ICP acceleration field, (line integral of Maxwell's second equation, eq. 4.5-3 of \"Fundamentals\"):"
   ]
  },
  {
   "cell_type": "code",
   "execution_count": 139,
   "metadata": {},
   "outputs": [],
   "source": [
    "# (-(1.0j*2.0*math.pi*ICP_ionization_frequency)/2.0)*"
   ]
  },
  {
   "cell_type": "markdown",
   "metadata": {},
   "source": [
    "# Ion beam deflection / scattering by e-beam collision:\n",
    "\n",
    "Basic momentum transfer upper bound. Ignoring the energy of ejected electron and all other important factors"
   ]
  },
  {
   "cell_type": "code",
   "execution_count": 149,
   "metadata": {},
   "outputs": [
    {
     "name": "stdout",
     "output_type": "stream",
     "text": [
      "Heavy beam will have up to <120.59 m/s added\n",
      "Heavy beam will be deflected by <0.25835 degrees\n"
     ]
    }
   ],
   "source": [
    "heavy_beam_collision_delta_v = ((math.sqrt((2.0*e_beam_energy*constants.electron_volt)/constants.electron_mass))*constants.electron_mass)/(print_species.mass*amu)\n",
    "heavy_beam_deflection_angle = math.degrees(math.atan(heavy_beam_collision_delta_v/acceleration_velocity))\n",
    "\n",
    "print(\"Heavy beam will have up to <%0.5g m/s added\" % (heavy_beam_collision_delta_v))\n",
    "print(\"Heavy beam will be deflected by <%0.5g degrees\" % (heavy_beam_deflection_angle))"
   ]
  },
  {
   "cell_type": "code",
   "execution_count": null,
   "metadata": {},
   "outputs": [],
   "source": []
  },
  {
   "cell_type": "markdown",
   "metadata": {},
   "source": [
    " ## Assembly \n",
    " \n",
    " Charge assembly energy, circular approximation (eq. 8.7 FLP Vol II):\n",
    " \n",
    " TODO: add cylindrical eq. - this is horribly inaccurate, but at least it's an upper bound.\n",
    " \n",
    " FIXME:\n",
    " \n",
    " Total charge:\n",
    " $$ Q_T = \\text{pL}\\pi\\text{R}^2$$\n",
    " \n",
    " \n",
    " \n",
    " "
   ]
  },
  {
   "cell_type": "code",
   "execution_count": 148,
   "metadata": {
    "scrolled": true
   },
   "outputs": [
    {
     "name": "stdout",
     "output_type": "stream",
     "text": [
      "Charge assembly power: per ~1784.1 W, total 9.1348e+05 W\n"
     ]
    }
   ],
   "source": [
    "ionization_chamber_volume = (math.pi*(ionization_chamber_radius**2))*bowtie_rms_neutral_velocity\n",
    "\n",
    "\n",
    "per_chamber_assembled_energy = (3.0/5.0)*(((atoms_per_second/number_of_bowties)* \\\n",
    "                                 (ionization_chamber_radius/bowtie_rms_neutral_velocity)*constants.e)**2.0) \\\n",
    "                                /(4.0*math.pi*constants.epsilon_0*ionization_chamber_radius)*(bowtie_rms_neutral_velocity/ionization_chamber_radius)\n",
    "\n",
    "print(\"Charge assembly power: per ~%0.5g W, total %0.5g W\" % (per_chamber_assembled_energy, per_chamber_assembled_energy*number_of_bowties))"
   ]
  },
  {
   "cell_type": "markdown",
   "metadata": {},
   "source": [
    "Energy to form one sphere of charge:\n",
    "\n",
    "$$ U=(3/5)\\left(\\frac{\\left(\\frac{\\text{I C}}{\\frac{v}{2R}}\\right)^2}{4\\pi\\epsilon_0 R}\\right) $$\n",
    "\n",
    "simplifies to\n",
    "\n",
    "$$ (3/5)(Q^2 R)/(π v^2 ϵ) $$\n",
    "\n",
    "Again from http://www.feynmanlectures.caltech.edu/II_08.html\n",
    "\n",
    "\n",
    "```\n",
    "I = beam current, amps\n",
    "C = Coulomb's constant\n",
    "v = particle velocity, post-acceleration\n",
    "R = final beam radius\n",
    "```"
   ]
  },
  {
   "cell_type": "code",
   "execution_count": 142,
   "metadata": {
    "scrolled": true
   },
   "outputs": [
    {
     "data": {
      "text/plain": [
       "367846.3616583605"
      ]
     },
     "execution_count": 142,
     "metadata": {},
     "output_type": "execute_result"
    }
   ],
   "source": [
    "#Take two:\n",
    "#that can't be right, it's independent of beam radius\n",
    "#which is absurd\n",
    "minimum_beam_radius = 0.001\n",
    "per_chamber_assembled_energy = (3.0/5.0)*(((constants.e*(atoms_per_second/number_of_bowties))**2.0)*minimum_beam_radius)/(math.pi*(bowtie_rms_neutral_velocity**2.0)*constants.epsilon_0)*(bowtie_rms_neutral_velocity/minimum_beam_radius)\n",
    "assembled_beam_energy_per_particle = ((per_chamber_assembled_energy/(atoms_per_second/number_of_bowties))/constants.electron_volt)\n",
    "per_chamber_assembled_energy\n",
    "assembled_beam_energy_per_particle"
   ]
  },
  {
   "cell_type": "markdown",
   "metadata": {},
   "source": [
    "Take 3:\n",
    "Dividing the minimum beam volume by each sphere volume, then multiplying by the beam charge per second:\n",
    "\n",
    "        $$(((electron charge * (3v/4r)*(total beam charge))^2)/R) * (1/(4pi \\epsilon_0)) * (3/5) $$\n",
    "\n"
   ]
  },
  {
   "cell_type": "code",
   "execution_count": 143,
   "metadata": {},
   "outputs": [
    {
     "data": {
      "text/plain": [
       "1.6810644813729951e+27"
      ]
     },
     "execution_count": 143,
     "metadata": {},
     "output_type": "execute_result"
    }
   ],
   "source": [
    "per_chamber_assembled_energy = (3.0/5.0)*(((((constants.e*(atoms_per_second/number_of_bowties))*((3.0*bowtie_rms_neutral_velocity)/(4.0*minimum_beam_radius)))**2.0)/minimum_beam_radius)/(4.0*math.pi*constants.epsilon_0))*(bowtie_rms_neutral_velocity/minimum_beam_radius)\n",
    "per_chamber_assembled_energy\n"
   ]
  },
  {
   "cell_type": "markdown",
   "metadata": {},
   "source": [
    "Moayedi, Seyed Kamran, Mansoureh Shafabakhsh, and Farkhondeh Fathi. \"Analytical calculation of stored electrostatic energy per unit length for an infinite charged line and an infinitely long cylinder in the framework of Born-Infeld electrostatics.\" Advances in High Energy Physics 2015 (2015)."
   ]
  },
  {
   "cell_type": "markdown",
   "metadata": {},
   "source": [
    "Another cylindrical approximation, from the last equation on\n",
    "\n",
    "https://nptel.ac.in/courses/115101005/downloads/lectures-doc/Lecture-10.pdf\n",
    "\n"
   ]
  },
  {
   "cell_type": "code",
   "execution_count": 144,
   "metadata": {},
   "outputs": [
    {
     "data": {
      "text/plain": [
       "1630.0136824531319"
      ]
     },
     "execution_count": 144,
     "metadata": {},
     "output_type": "execute_result"
    }
   ],
   "source": [
    "linear_charge_density = ((atoms_per_second/number_of_bowties)*constants.e)/acceleration_velocity\n",
    "per_chamber_assembled_energy = ((linear_charge_density**2.0)/(16.0*math.pi*constants.epsilon_0))*acceleration_velocity\n",
    "per_chamber_assembled_energy*number_of_bowties\n",
    "assembled_beam_energy_per_particle = ((per_chamber_assembled_energy/(atoms_per_second/number_of_bowties))/constants.electron_volt)\n",
    "assembled_beam_energy_per_particle"
   ]
  },
  {
   "cell_type": "markdown",
   "metadata": {},
   "source": [
    "# Child-Langmuir Ion Current Limit\n",
    "\n",
    "$$ \\text{I} = \\frac{4}{9}\\epsilon_0 \\left(\\frac{-2q}{m} \\right) ^{0.5} \\frac{\\text{V}^{1.5}}{ \\text{D}^2} \\text{A} $$\n",
    "\n",
    "```\n",
    "I = beam current, amps\n",
    "V = acceleration voltage, volts\n",
    "q = ion charge, C\n",
    "m = ion mass, kg\n",
    "D = gap between acceleration plates, m\n",
    "A = area\n",
    "\n",
    "```\n",
    "\n",
    "Suggested reading:\n",
    "\n",
    "Fundamentals of Electric Propulsion, \"Basic plasma physics\". ../references/Fundamentals.pdf\n",
    "\n",
    "The Child-Langmuir Law, Stanford EDU, Lucas et al [1]\n",
    "\n",
    "[2]\n",
    "\n",
    "[1]: https://web.stanford.edu/~ajlucas/The%20Child-Langmuir%20Law.pdf\n",
    "\n",
    "[2]: http://www.physics.csbsju.edu/370/thermionic.pdf\n",
    "\n",
    "\"A simple physical derivation of Child–Langmuir space-charge-limited\n",
    "emission using vacuum capacitance\"\n"
   ]
  },
  {
   "cell_type": "code",
   "execution_count": 145,
   "metadata": {
    "scrolled": true
   },
   "outputs": [
    {
     "name": "stdout",
     "output_type": "stream",
     "text": [
      "Child-langmuir ion current: 0.0047609 A/bowtie\n",
      "Total CL current: 2.4376 A\n"
     ]
    }
   ],
   "source": [
    "def child_langmuir_current(voltage, charge, mass, gap, area):\n",
    "    return (4.0/9.0)*constants.epsilon_0*(((2.0*charge/(mass))**0.5)*((voltage**1.5)/(gap**2.0))) * area\n",
    "                                   \n",
    "per_chamber_CL_ion_current = child_langmuir_current(acceleration_voltage,constants.e,(print_species.mass*amu),acceleration_gap,ionization_chamber_area)\n",
    "                                   \n",
    "print(\"Child-langmuir ion current: %0.5g A/bowtie\" % per_chamber_CL_ion_current)\n",
    "print(\"Total CL current: %0.5g A\" % (per_chamber_CL_ion_current*number_of_bowties))\n"
   ]
  },
  {
   "cell_type": "markdown",
   "metadata": {},
   "source": [
    "2d ion \n",
    "\n",
    "Lau, Y. Y. \"Simple theory for the two-dimensional Child-Langmuir law.\" Physical review letters 87.27 (2001): 278301."
   ]
  },
  {
   "cell_type": "markdown",
   "metadata": {},
   "source": [
    "# Space charge\n"
   ]
  },
  {
   "cell_type": "code",
   "execution_count": 146,
   "metadata": {
    "scrolled": true
   },
   "outputs": [],
   "source": [
    "# Vkick"
   ]
  },
  {
   "cell_type": "markdown",
   "metadata": {},
   "source": [
    "https://cds.cern.ch/record/1005034/files/p27.pdf \n",
    "\n"
   ]
  },
  {
   "cell_type": "markdown",
   "metadata": {},
   "source": [
    "https://arxiv.org/pdf/1401.3951.pdf\n",
    "\n",
    "Three-dimensional Child–Langmuir law for uniform hot electron emission"
   ]
  },
  {
   "cell_type": "code",
   "execution_count": 147,
   "metadata": {
    "scrolled": true
   },
   "outputs": [
    {
     "ename": "TypeError",
     "evalue": "unsupported operand type(s) for ** or pow(): 'NoneType' and 'float'",
     "output_type": "error",
     "traceback": [
      "\u001b[0;31m---------------------------------------------------------------------------\u001b[0m",
      "\u001b[0;31mTypeError\u001b[0m                                 Traceback (most recent call last)",
      "\u001b[0;32m<ipython-input-147-e2f73a29bfef>\u001b[0m in \u001b[0;36m<module>\u001b[0;34m()\u001b[0m\n\u001b[1;32m      1\u001b[0m \u001b[0mbeam_exit_velocity\u001b[0m \u001b[0;34m=\u001b[0m \u001b[0mbowtie_rms_neutral_velocity\u001b[0m\u001b[0;34m+\u001b[0m\u001b[0macceleration_velocity\u001b[0m\u001b[0;34m\u001b[0m\u001b[0m\n\u001b[1;32m      2\u001b[0m \u001b[0;34m\u001b[0m\u001b[0m\n\u001b[0;32m----> 3\u001b[0;31m \u001b[0mfocus_field\u001b[0m \u001b[0;34m=\u001b[0m \u001b[0mutil\u001b[0m\u001b[0;34m.\u001b[0m\u001b[0mscharge_efield\u001b[0m\u001b[0;34m(\u001b[0m\u001b[0mper_chamber_beam_current\u001b[0m\u001b[0;34m,\u001b[0m\u001b[0mbeam_exit_velocity\u001b[0m\u001b[0;34m,\u001b[0m\u001b[0mionization_chamber_radius\u001b[0m\u001b[0;34m)\u001b[0m\u001b[0;34m\u001b[0m\u001b[0m\n\u001b[0m\u001b[1;32m      4\u001b[0m \u001b[0;32mprint\u001b[0m\u001b[0;34m(\u001b[0m\u001b[0;34m\"Required focus field: %0.5g V/m\"\u001b[0m \u001b[0;34m%\u001b[0m \u001b[0mfocus_field\u001b[0m\u001b[0;34m)\u001b[0m\u001b[0;34m\u001b[0m\u001b[0m\n\u001b[1;32m      5\u001b[0m \u001b[0;34m\u001b[0m\u001b[0m\n",
      "\u001b[0;32m/home/arthurdent/NAS/primary_a/Projects/ion_printer/files/ionprinter/simulation/utilities/util.py\u001b[0m in \u001b[0;36mscharge_efield\u001b[0;34m(beam_current, beam_velocity, beam_radius, sample_radius)\u001b[0m\n\u001b[1;32m     15\u001b[0m     \u001b[0;32mif\u001b[0m\u001b[0;34m(\u001b[0m\u001b[0msample_radius\u001b[0m \u001b[0;34m==\u001b[0m \u001b[0mNone\u001b[0m\u001b[0;34m)\u001b[0m\u001b[0;34m:\u001b[0m\u001b[0;34m\u001b[0m\u001b[0m\n\u001b[1;32m     16\u001b[0m         \u001b[0mbeam_radius\u001b[0m\u001b[0;34m=\u001b[0m\u001b[0msample_radius\u001b[0m\u001b[0;34m\u001b[0m\u001b[0m\n\u001b[0;32m---> 17\u001b[0;31m     \u001b[0;32mreturn\u001b[0m \u001b[0;34m(\u001b[0m\u001b[0;34m(\u001b[0m\u001b[0mbeam_current\u001b[0m\u001b[0;34m/\u001b[0m\u001b[0;34m(\u001b[0m\u001b[0;36m2.0\u001b[0m\u001b[0;34m*\u001b[0m\u001b[0;34m(\u001b[0m\u001b[0mmath\u001b[0m\u001b[0;34m.\u001b[0m\u001b[0mpi\u001b[0m\u001b[0;34m)\u001b[0m\u001b[0;34m*\u001b[0m\u001b[0mepsilon\u001b[0m\u001b[0;34m*\u001b[0m\u001b[0mbeam_velocity\u001b[0m\u001b[0;34m)\u001b[0m\u001b[0;34m)\u001b[0m \u001b[0;34m*\u001b[0m \u001b[0;34m(\u001b[0m\u001b[0msample_radius\u001b[0m\u001b[0;34m/\u001b[0m\u001b[0;34m(\u001b[0m\u001b[0mbeam_radius\u001b[0m\u001b[0;34m**\u001b[0m\u001b[0;36m2.0\u001b[0m\u001b[0;34m)\u001b[0m\u001b[0;34m)\u001b[0m\u001b[0;34m)\u001b[0m\u001b[0;34m\u001b[0m\u001b[0m\n\u001b[0m\u001b[1;32m     18\u001b[0m \u001b[0;34m\u001b[0m\u001b[0m\n\u001b[1;32m     19\u001b[0m \u001b[0;32mdef\u001b[0m \u001b[0mscharge_force\u001b[0m\u001b[0;34m(\u001b[0m\u001b[0mbeam_current\u001b[0m\u001b[0;34m,\u001b[0m\u001b[0mbeam_velocity\u001b[0m\u001b[0;34m,\u001b[0m\u001b[0mbeam_radius\u001b[0m\u001b[0;34m)\u001b[0m\u001b[0;34m:\u001b[0m\u001b[0;34m\u001b[0m\u001b[0m\n",
      "\u001b[0;31mTypeError\u001b[0m: unsupported operand type(s) for ** or pow(): 'NoneType' and 'float'"
     ]
    }
   ],
   "source": [
    "beam_exit_velocity = bowtie_rms_neutral_velocity+acceleration_velocity\n",
    "\n",
    "focus_field = util.scharge_efield(per_chamber_beam_current,beam_exit_velocity,ionization_chamber_radius)\n",
    "print(\"Required focus field: %0.5g V/m\" % focus_field)\n",
    "\n",
    "#sine focus voltage equation would be nice\n",
    "print(\"Required focus voltage: ~%0.5g V\" % (focus_field*(acceleration_gap)))\n"
   ]
  },
  {
   "cell_type": "code",
   "execution_count": null,
   "metadata": {},
   "outputs": [],
   "source": [
    "#todo: 2d scharge from "
   ]
  },
  {
   "cell_type": "markdown",
   "metadata": {},
   "source": [
    "# Warp acceleration gap sim\n",
    "\n",
    "This required a modification to warp - line 28 of warp.py needs to have \n",
    "```\n",
    "try:\n",
    "    __IPYTHON__\n",
    "    pass\n",
    "except NameError:\n",
    "    warpoptions.parse_args()\n",
    "```"
   ]
  },
  {
   "cell_type": "code",
   "execution_count": null,
   "metadata": {
    "scrolled": true
   },
   "outputs": [],
   "source": [
    "# from warp import *\n",
    "\n",
    "# w3d.solvergeom = w3d.RZgeom\n",
    "\n",
    "# w3d.bound0 = dirichlet\n",
    "# w3d.boundnz = neumann\n",
    "# w3d.boundxy = neumann\n",
    "# # ---   for particles\n",
    "# top.pbound0 = absorb\n",
    "# top.pboundnz = absorb\n",
    "# top.prwall = ionization_chamber_radius\n",
    "\n",
    "# # --- Set field grid size\n",
    "# w3d.xmmin = -ionization_chamber_radius\n",
    "# w3d.xmmax = +ionization_chamber_radius\n",
    "# w3d.ymmin = -ionization_chamber_radius\n",
    "# w3d.ymmax = +ionization_chamber_radius\n",
    "# w3d.zmmin = 0.\n",
    "# w3d.zmmax = ionization_chamber_length\n",
    "\n",
    "# # --- Field grid dimensions - note that nx and ny must be even.\n",
    "# w3d.nx = w3d.ny = 32\n",
    "# w3d.nz = 32\n",
    "\n",
    "# f3d.mgtol = 1.e-1 # Multigrid solver convergence tolerance, in volts\n",
    "\n",
    "\n",
    "# plate = ZRoundedCylinderOut(radius=0.0001, length=0.0001, radius2=0.00001, voltage=100.0, zcent=0.01)\n",
    "\n",
    "# installconductor(plate,dfill=largepos)\n",
    "\n",
    "# solver = MultiGrid2D()\n",
    "# registersolver(solver)\n",
    "\n",
    "# package(\"w3d\")\n",
    "# generate()\n",
    "\n",
    "# step()\n",
    "\n",
    "# getappliedfields(x=np.arange(-ionization_chamber_radius,ionization_chamber_radius,0.001),\n",
    "#                  y=np.arange(-ionization_chamber_radius,ionization_chamber_radius,0.001),\n",
    "#                  z=0.0)\n"
   ]
  },
  {
   "cell_type": "markdown",
   "metadata": {},
   "source": [
    "# Recombination\n",
    "\n",
    "## Child-Langmuir recombination current\n"
   ]
  },
  {
   "cell_type": "code",
   "execution_count": 156,
   "metadata": {
    "scrolled": true
   },
   "outputs": [
    {
     "name": "stdout",
     "output_type": "stream",
     "text": [
      "Child-langmuir electron current: 0.011805 A/bowtie\n",
      "Total CL e current: 6.0441 A\n"
     ]
    }
   ],
   "source": [
    "per_chamber_CL_electron_current = child_langmuir_current(5,constants.e,constants.electron_mass,acceleration_gap,ionization_chamber_area)\n",
    "\n",
    "print(\"Child-langmuir electron current: %0.5g A/bowtie\" % per_chamber_CL_electron_current )\n",
    "print(\"Total CL e current: %0.5g A\" % (per_chamber_CL_electron_current*number_of_bowties))\n"
   ]
  },
  {
   "cell_type": "markdown",
   "metadata": {},
   "source": [
    "## Hot cathode"
   ]
  },
  {
   "cell_type": "code",
   "execution_count": null,
   "metadata": {},
   "outputs": [],
   "source": []
  },
  {
   "cell_type": "markdown",
   "metadata": {},
   "source": [
    "# Part heating\n",
    "\n",
    "The beam heat flux will cause a temperature gradient from the chilled build platform to the extreme end of the printed part. Assuming a constant cross section, the peak temperature will be\n",
    "\n",
    "$$ \\frac{\\text{(P/A)}}{k}L = \\Delta \\text{T} \\\\ \\Delta \\text{T} + \\text{T}_i = T $$\n",
    "\n",
    "```\n",
    "P = Power applied at surface, W\n",
    "A = Area of the part, m^2\n",
    "k = Thermal conductivity of material, W/m-K\n",
    "L = Length, M\n",
    "T = Change in temperature across material, K\n",
    "Ti = Build platform temperature\n",
    "```\n",
    "\n",
    "Ionization power is likely emitted in the form of photons at recombination, and so should be neglected.\n",
    "\n",
    "\n",
    "http://web.mit.edu/16.unified/www/SPRING/propulsion/notes/node116.html\n",
    "\n",
    "TODO: \n",
    "- Add radiation here. A bit tricky, since the temperature's not constant.\n",
    "- Add some kind of duty cycle approximation?\n",
    "- cool graph"
   ]
  },
  {
   "cell_type": "code",
   "execution_count": null,
   "metadata": {},
   "outputs": [],
   "source": [
    "print_area = 0.01*0.1 #m^2\n",
    "printed_object_height = 0.03 #m\n",
    "build_platform_temperature = 200.0 #Kelvin - likely liquid-cooled \n",
    "\n",
    "printed_emissivity = 0.05\n",
    "beam_power = (acceleration_voltage*total_beam_current)\n",
    "\n",
    "part_peak_temperature = (((beam_power/print_area)/print_species.thermal_conductivity)*printed_object_height)+build_platform_temperature\n",
    "print(\"Part peak temperature: %0.5g K\" % (part_peak_temperature))\n",
    "\n",
    "\n",
    "# per_bowtie_power = (bowtie_hot_area * printed_emissivity * constants.Stefan_Boltzmann * (bowtie_temperature**4.0))\n"
   ]
  },
  {
   "cell_type": "markdown",
   "metadata": {},
   "source": [
    "# A final tally"
   ]
  },
  {
   "cell_type": "code",
   "execution_count": null,
   "metadata": {},
   "outputs": [],
   "source": [
    "total_power_consumption = total_bowtie_power + (acceleration_voltage*total_beam_current) + total_ionization_power\n",
    "print(\"Total power consumption: %0.5g W\" % (total_power_consumption))\n",
    "\n",
    "print(\"Print head area: %0.5g m^2 (a square %0.5g m to the side)\" % ((ionization_chamber_area*number_of_bowties),((ionization_chamber_area*number_of_bowties)**0.5)))\n",
    "\n",
    "print(\"Allowable power consumption per bowtie\")"
   ]
  },
  {
   "cell_type": "code",
   "execution_count": null,
   "metadata": {},
   "outputs": [],
   "source": [
    "#economics!\n",
    "\n",
    "cost_per_watt = 0.2/1000.0 #20 cents per kilowatt\n",
    "\n",
    "consumable_cost = 200.0/1000.0 #dollars per 1000 hours\n",
    "\n",
    "material_cost = 20.0/1000.0 #dollars per gram\n",
    "\n",
    "watts_per_gram = total_power_consumption/print_speed_g_h\n",
    "\n",
    "print(\"Print cost: %0.5g W/g, $%0.5g/100g\" % ((watts_per_gram),(cost_per_watt*watts_per_gram*100.0+material_cost+consumable_cost)))\n"
   ]
  }
 ],
 "metadata": {
  "kernelspec": {
   "display_name": "Python 2",
   "language": "python",
   "name": "python2"
  },
  "language_info": {
   "codemirror_mode": {
    "name": "ipython",
    "version": 2
   },
   "file_extension": ".py",
   "mimetype": "text/x-python",
   "name": "python",
   "nbconvert_exporter": "python",
   "pygments_lexer": "ipython2",
   "version": "2.7.13"
  }
 },
 "nbformat": 4,
 "nbformat_minor": 2
}
