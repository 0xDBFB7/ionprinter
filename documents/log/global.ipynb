{
 "cells": [
  {
   "cell_type": "code",
   "execution_count": 532,
   "metadata": {},
   "outputs": [],
   "source": [
    "# from thermo.chemical import Chemical\n",
    "\n",
    "# emissivity = 0\n",
    "# temperature = 1900 #kelvin\n",
    "\n",
    "# boltzmann_constant = 5.6703e-10 \n",
    "\n",
    "# test this is \n",
    "\n",
    "# aluminium = Chemical('aluminium')\n",
    "\n",
    "# aluminium_vapor_pressure = aluminium.VaporPressure.calculate(2000,\"BOILING_CRITICAL\") # takes temp in K, returns pressure in Pa\n",
    "#                                                                                       # not accurate!\n",
    "# print(aluminium_vapor_pressure)\n",
    "\n",
    "# graphite = Chemical('carbon|solid')\n",
    "# graphite_vapor_pressure = graphite.VaporPressure.T_dependent_property(1900) # takes temp in K, returns pressure in Pa\n",
    "# print(graphite_vapor_pressure)"
   ]
  },
  {
   "cell_type": "code",
   "execution_count": 533,
   "metadata": {},
   "outputs": [],
   "source": [
    "from mendeleev import element\n",
    "from thermo.chemical import Chemical\n",
    "import sympy.physics.units as units\n",
    "import scipy.constants as constants\n",
    "amu = constants.physical_constants[\"atomic mass unit-kilogram relationship\"][0]\n",
    "import math\n",
    "import sys\n",
    "sys.path.insert(0, '../../files/ionprinter/simulation/utilities/')\n",
    "import util"
   ]
  },
  {
   "cell_type": "code",
   "execution_count": 534,
   "metadata": {
    "scrolled": true
   },
   "outputs": [],
   "source": [
    "#Bowtie inputs:\n",
    "\n",
    "print_species = element('Aluminum')\n",
    "\n",
    "print_speed = 10 #g/hour\n",
    "\n",
    "print_speed /= 1000.0\n",
    "print_speed /= 3600.0\n",
    "\n",
    "number_of_bowties = 10000.0\n",
    "\n",
    "bowtie_nozzle_radius = 0.00033#m\n",
    "\n",
    "bowtie_hot_area = 40e-6 #m^2\n",
    "graphite_emissivity = 0.95\n",
    "\n",
    "bowtie_temperature = 1600.0 #Kelvin\n",
    "\n",
    "# import pandas as pd\n",
    "# data = [[1, 2], [3, 4]]\n",
    "# pd.DataFrame(data, columns=[\"Foo\", \"Bar\"])\n",
    "\n",
    "\n",
    "#chamber inputs\n",
    "\n",
    "ionization_chamber_radius = 0.0015 #m\n",
    "ionization_chamber_length = 0.01 #m\n",
    "acceleration_voltage = 100 #v\n",
    "ionization_efficiency = 0.3\n",
    "\n",
    "ICP_frequency = 1000000\n",
    "ICP_peak_B = 0.05\n",
    "\n",
    "build_platform_distance = 0.03 #m"
   ]
  },
  {
   "cell_type": "code",
   "execution_count": null,
   "metadata": {},
   "outputs": [],
   "source": []
  },
  {
   "cell_type": "code",
   "execution_count": null,
   "metadata": {},
   "outputs": [],
   "source": []
  },
  {
   "cell_type": "code",
   "execution_count": 535,
   "metadata": {
    "scrolled": true
   },
   "outputs": [
    {
     "name": "stdout",
     "output_type": "stream",
     "text": [
      "Atoms per second: \n",
      "per chamber 6.1999e+15 atoms/s \n",
      "total 6.1999e+19 atoms/s\n",
      "Total moles per second: 0.00010295 M/s\n",
      "Print volume: 3.7052 cm^3/h\n",
      "Total beam current: 9.9333 Amps\n",
      "Per-chamber current: 0.00099333 Amps\n"
     ]
    }
   ],
   "source": [
    "atoms_per_second = print_speed/(print_species.mass*amu)\n",
    "moles_per_second = atoms_per_second/constants.Avogadro\n",
    "print_volume = ((print_speed*3600.0)/(print_species.density*1000.0))/1.0e-6\n",
    "\n",
    "total_beam_current = atoms_per_second*constants.elementary_charge\n",
    "per_chamber_beam_current = total_beam_current/number_of_bowties\n",
    "\n",
    "print(\"Atoms per second: \\nper chamber %0.5g atoms/s \\ntotal %0.5g atoms/s\" % ((atoms_per_second/number_of_bowties),\n",
    "                                           atoms_per_second))\n",
    "print(\"Total moles per second: %0.5g M/s\" % moles_per_second)\n",
    "print(\"Print volume: %0.5g cm^3/h\" % print_volume)\n",
    "print(\"Total beam current: %0.5g Amps\" % total_beam_current)\n",
    "print(\"Per-chamber current: %0.5g Amps\" % per_chamber_beam_current)\n",
    "\n",
    "#I find it infinitely amusing that \"40 amps of aluminum\" is \"40 grams per second of aluminum\" within 0.6%"
   ]
  },
  {
   "cell_type": "markdown",
   "metadata": {
    "collapsed": true
   },
   "source": [
    "Determine RMS neutral gas velocity at a certain temperature:"
   ]
  },
  {
   "cell_type": "markdown",
   "metadata": {},
   "source": [
    "$$\\sqrt{\\frac{3RT}{m}}$$"
   ]
  },
  {
   "cell_type": "code",
   "execution_count": 536,
   "metadata": {
    "scrolled": false
   },
   "outputs": [
    {
     "name": "stdout",
     "output_type": "stream",
     "text": [
      "RMS particle velocity: 1216.2 m/s\n",
      "RMS particle energy: 0.20682 eV\n"
     ]
    }
   ],
   "source": [
    "bowtie_rms_neutral_velocity = math.sqrt((3*constants.Boltzmann*bowtie_temperature)/(print_species.mass*amu))\n",
    "bowtie_rms_energy = 0.5*print_species.mass*amu*(bowtie_rms_neutral_velocity**2.0)\n",
    "print(\"RMS particle velocity: %0.5g m/s\" % bowtie_rms_neutral_velocity)\n",
    "print(\"RMS particle energy: %0.5g eV\" % (bowtie_rms_energy/constants.electron_volt))\n"
   ]
  },
  {
   "cell_type": "markdown",
   "metadata": {},
   "source": [
    "Determine approximate neutral gas pressure:\n",
    "\n",
    "(I'm not even sure that you can do this.)\n",
    "$$\\text{PV}=\\text{nRT}$$"
   ]
  },
  {
   "cell_type": "code",
   "execution_count": 537,
   "metadata": {
    "scrolled": true
   },
   "outputs": [
    {
     "name": "stdout",
     "output_type": "stream",
     "text": [
      "Bowtie nozzle pressure: 0.32916 Pa\n",
      "Approx. species vapor pressure: 10.296 Pa\n",
      "Approximate nozzle mean free path: 0.63098 m\n",
      "nrho: 1.49e+23\n",
      "Knudsen number: local 1912.1, global 21.033\n",
      "Worst-case space charge density: 1.49e+19\n"
     ]
    }
   ],
   "source": [
    "R_constant = constants.Boltzmann*constants.Avogadro\n",
    "\n",
    "nozzle_volume = (math.pi*(bowtie_nozzle_radius**2))*bowtie_rms_neutral_velocity\n",
    "\n",
    "bowtie_nozzle_pressure = ((moles_per_second/number_of_bowties)*R_constant*bowtie_temperature)/(nozzle_volume)\n",
    "\n",
    "mean_free_path = 1.0/(((atoms_per_second/number_of_bowties)/nozzle_volume)*math.pi*((print_species.vdw_radius*1e-12)**2))\n",
    "\n",
    "vapor_pressure = Chemical(print_species.name).VaporPressure.calculate(bowtie_temperature,\"BOILING_CRITICAL\") # takes temp in K, returns pressure in P\n",
    "\n",
    "print(\"Bowtie nozzle pressure: %0.5g Pa\" % bowtie_nozzle_pressure)\n",
    "print(\"Approx. species vapor pressure: %0.5g Pa\" % vapor_pressure)\n",
    "print(\"Approximate nozzle mean free path: %0.5g m\" % mean_free_path)\n",
    "print(\"nrho: %0.5g\" % (atoms_per_second/nozzle_volume))\n",
    "\n",
    "\n",
    "print(\"Knudsen number: local %0.5g, global %0.5g\" % ((mean_free_path/bowtie_nozzle_radius),\n",
    "                                                     (mean_free_path/build_platform_distance)))\n",
    "\n",
    "vapor_pressure = Chemical('aluminium').VaporPressure.calculate(bowtie_temperature,\"BOILING_CRITICAL\") # takes temp in K, returns pressure in Pa\n",
    "                                                                                       # not accurate!\n",
    "print(\"Worst-case space charge density: %0.5g\" % ((atoms_per_second/number_of_bowties)/nozzle_volume))"
   ]
  },
  {
   "cell_type": "code",
   "execution_count": null,
   "metadata": {},
   "outputs": [],
   "source": []
  },
  {
   "cell_type": "code",
   "execution_count": 538,
   "metadata": {
    "scrolled": false
   },
   "outputs": [
    {
     "name": "stdout",
     "output_type": "stream",
     "text": [
      "Accel. vel: 26743 m/s\n",
      "Accel. power per chamber: 0.099333 W, total 993.33 W \n",
      "Required focus field: 4.2594e+05 V/m\n",
      "Required focus voltage: ~127.78 V\n"
     ]
    }
   ],
   "source": [
    "acceleration_velocity = math.sqrt((2.0*acceleration_voltage*constants.electron_volt)/(print_species.mass*amu))\n",
    "print(\"Accel. vel: %0.5g m/s\" % acceleration_velocity)\n",
    "print(\"Accel. power per chamber: %0.5g W, total %0.5g W \" % (acceleration_voltage*per_chamber_beam_current\n",
    "                                                        ,acceleration_voltage*total_beam_current))\n",
    "\n",
    "beam_exit_velocity = bowtie_rms_neutral_velocity+acceleration_velocity\n",
    "\n",
    "focus_field = util.scharge_efield(per_chamber_beam_current,beam_exit_velocity,ionization_chamber_radius)\n",
    "print(\"Required focus field: %0.5g V/m\" % focus_field)\n",
    "\n",
    "#sine focus voltage equation would be nice\n",
    "print(\"Required focus voltage: ~%0.5g V\" % (focus_field*(ionization_chamber_radius/5.0)))\n"
   ]
  },
  {
   "cell_type": "code",
   "execution_count": 539,
   "metadata": {
    "scrolled": false
   },
   "outputs": [
    {
     "name": "stdout",
     "output_type": "stream",
     "text": [
      "Ionization power: per ~0.0059458 W, total 59.458 W\n"
     ]
    }
   ],
   "source": [
    "per_chamber_ionization_power = ((atoms_per_second/number_of_bowties)*print_species.ionenergies[1]*constants.electron_volt)\n",
    "total_ionization_power = per_chamber_ionization_power*number_of_bowties\n",
    "print(\"Ionization power: per ~%0.5g W, total %0.5g W\" % (per_chamber_ionization_power,total_ionization_power))"
   ]
  },
  {
   "cell_type": "code",
   "execution_count": null,
   "metadata": {},
   "outputs": [],
   "source": [
    " "
   ]
  },
  {
   "cell_type": "markdown",
   "metadata": {},
   "source": [
    "Bowtie radiation power:"
   ]
  },
  {
   "cell_type": "code",
   "execution_count": 540,
   "metadata": {
    "scrolled": true
   },
   "outputs": [
    {
     "name": "stdout",
     "output_type": "stream",
     "text": [
      "Bowtie power: per 14.121 W, total 1.4121e+05 W\n"
     ]
    }
   ],
   "source": [
    "per_bowtie_power = (bowtie_hot_area * graphite_emissivity * constants.Stefan_Boltzmann * (bowtie_temperature**4.0))\n",
    "total_bowtie_power = per_bowtie_power*number_of_bowties\n",
    "\n",
    "print(\"Bowtie power: per %0.5g W, total %0.5g W\" % (per_bowtie_power,total_bowtie_power))\n"
   ]
  },
  {
   "cell_type": "code",
   "execution_count": 541,
   "metadata": {},
   "outputs": [
    {
     "name": "stdout",
     "output_type": "stream",
     "text": [
      "Total power consumption: 1.4221e+05 W\n"
     ]
    }
   ],
   "source": [
    "total_power_consumption = total_bowtie_power + (acceleration_voltage*total_beam_current) + per_chamber_ionization_power\n",
    "print(\"Total power consumption: %0.5g W\" % (total_power_consumption))"
   ]
  },
  {
   "cell_type": "markdown",
   "metadata": {},
   "source": [
    "ICP acceleration field, (line integral of Maxwell's second equation, eq. 4.5-3 of \"Fundamentals\"):"
   ]
  },
  {
   "cell_type": "code",
   "execution_count": 542,
   "metadata": {},
   "outputs": [
    {
     "ename": "SyntaxError",
     "evalue": "invalid syntax (<ipython-input-542-2bfe023269aa>, line 1)",
     "output_type": "error",
     "traceback": [
      "\u001b[0;36m  File \u001b[0;32m\"<ipython-input-542-2bfe023269aa>\"\u001b[0;36m, line \u001b[0;32m1\u001b[0m\n\u001b[0;31m    (-(1.0j*2.0*math.pi*ICP_ionization_frequency)/2.0)*\u001b[0m\n\u001b[0m                                                       ^\u001b[0m\n\u001b[0;31mSyntaxError\u001b[0m\u001b[0;31m:\u001b[0m invalid syntax\n"
     ]
    }
   ],
   "source": [
    "(-(1.0j*2.0*math.pi*ICP_ionization_frequency)/2.0)*"
   ]
  }
 ],
 "metadata": {
  "kernelspec": {
   "display_name": "Python 2",
   "language": "python",
   "name": "python2"
  },
  "language_info": {
   "codemirror_mode": {
    "name": "ipython",
    "version": 2
   },
   "file_extension": ".py",
   "mimetype": "text/x-python",
   "name": "python",
   "nbconvert_exporter": "python",
   "pygments_lexer": "ipython2",
   "version": "2.7.13"
  }
 },
 "nbformat": 4,
 "nbformat_minor": 2
}
