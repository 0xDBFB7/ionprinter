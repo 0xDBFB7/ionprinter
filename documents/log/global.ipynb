{
 "cells": [
  {
   "cell_type": "markdown",
   "metadata": {},
   "source": [
    "# Welcome to the \n",
    "```\n",
    "   _  _____  ___  ___  _____________  ____  _  __\n",
    "  / |/ / _ \\/ _ \\/ _ \\/  _/_  __/ _ \\/ __ \\/ |/ /\n",
    " /    / , _/ // / // // /  / / / , _/ /_/ /    / \n",
    "/_/|_/_/|_/____/____/___/ /_/ /_/|_|\\____/_/|_/  \n",
    "                                                 \n",
    "```                                              \n",
    "\n",
    "<i>\"Let's do some science.\"</i>\n",
    "\n",
    "\n",
    "\n",
    "Wait, why's this a Jupyter notebook? Great question - I'm not sure."
   ]
  },
  {
   "cell_type": "code",
   "execution_count": 103,
   "metadata": {},
   "outputs": [],
   "source": [
    "%matplotlib nbagg\n",
    "\n",
    "import matplotlib.pyplot as plt\n",
    "\n",
    "from mendeleev import element\n",
    "from thermo.chemical import Chemical\n",
    "import sympy.physics.units as units\n",
    "import scipy.constants as constants\n",
    "amu = constants.physical_constants[\"atomic mass unit-kilogram relationship\"][0]\n",
    "import math\n",
    "import sys\n",
    "import numpy as np\n",
    "\n",
    "sys.path.insert(0, '../../files/ionprinter/simulation/utilities/')\n",
    "import util\n"
   ]
  },
  {
   "cell_type": "markdown",
   "metadata": {},
   "source": [
    "# Inputs"
   ]
  },
  {
   "cell_type": "code",
   "execution_count": 104,
   "metadata": {
    "scrolled": true
   },
   "outputs": [],
   "source": [
    "#GLOBALS\n",
    "\n",
    "print_species = element('Aluminum')\n",
    "\n",
    "print_speed_g_h = 10.0 #g/hour\n",
    "\n",
    "#convert to kg/s, kick CGS to the curb.\n",
    "print_speed = print_speed_g_h/1000.0\n",
    "print_speed /= 3600.0\n",
    "\n",
    "number_of_bowties = 20000.0 #bowties/printer - an excellent unit\n",
    "\n",
    "#hold or cut bowties\n",
    "\n",
    "build_platform_distance = 0.03 #m\n",
    "\n",
    "#BOWTIE\n",
    "\n",
    "bowtie_nozzle_radius = 0.00033#m\n",
    "\n",
    "bowtie_hot_area = 1e-6 #m^2\n",
    "graphite_emissivity = 0.95\n",
    "\n",
    "bowtie_temperature = 1400.0 #Kelvin\n",
    "\n",
    "\n",
    "#CHAMBER\n",
    "\n",
    "ionization_chamber_radius = 0.003 #m\n",
    "ionization_chamber_length = 0.01 #m\n",
    "\n",
    "acceleration_gap = 0.00025 #m\n",
    "acceleration_voltage = 80 #V\n",
    "ionization_efficiency = 0.3 \n",
    "\n",
    "ICP_frequency = 1000000 #hz\n",
    "ICP_peak_B = 0.05 #T\n",
    "\n",
    "\n",
    "# import pandas as pd\n",
    "# data = [[1, 2], [3, 4]]\n",
    "# pd.DataFrame(data, columns=[\"Foo\", \"Bar\"])\n"
   ]
  },
  {
   "cell_type": "code",
   "execution_count": null,
   "metadata": {},
   "outputs": [],
   "source": []
  },
  {
   "cell_type": "code",
   "execution_count": null,
   "metadata": {},
   "outputs": [],
   "source": []
  },
  {
   "cell_type": "markdown",
   "metadata": {},
   "source": [
    "# Neutral stuff."
   ]
  },
  {
   "cell_type": "code",
   "execution_count": 105,
   "metadata": {
    "scrolled": false
   },
   "outputs": [
    {
     "name": "stdout",
     "output_type": "stream",
     "text": [
      "Atoms per second: \n",
      "per chamber 3.0999e+15 atoms/s \n",
      "total 6.1999e+19 atoms/s\n",
      "\n",
      "Total moles per second: 0.00010295 M/s\n",
      "Deposited volume: 3.7052 cm^3/h\n",
      "Total beam current: 9.9333 Amps\n",
      "Per-chamber current: 0.00049666 Amps\n"
     ]
    }
   ],
   "source": [
    "#Total n of atoms that must be emitted to achieve desired mass deposition per hour\n",
    "atoms_per_second = print_speed/(print_species.mass*amu)\n",
    "\n",
    "moles_per_second = atoms_per_second/constants.Avogadro\n",
    "\n",
    "#Volume deposited per hour.\n",
    "hourly_print_volume = ((print_speed*3600.0)/(print_species.density*1000.0))/1.0e-6\n",
    "\n",
    "total_beam_current = atoms_per_second*constants.elementary_charge\n",
    "per_chamber_beam_current = total_beam_current/number_of_bowties\n",
    "\n",
    "print(\"Atoms per second: \\nper chamber %0.5g atoms/s \\ntotal %0.5g atoms/s\\n\" % ((atoms_per_second/number_of_bowties),\n",
    "                                           atoms_per_second))\n",
    "print(\"Total moles per second: %0.5g M/s\" % moles_per_second)\n",
    "print(\"Deposited volume: %0.5g cm^3/h\" % hourly_print_volume)\n",
    "print(\"Total beam current: %0.5g Amps\" % total_beam_current)\n",
    "print(\"Per-chamber current: %0.5g Amps\" % per_chamber_beam_current)\n",
    "\n",
    "#I find it infinitely amusing that \"40 amps of aluminum\" is \"40 grams per second of aluminum\" within 0.6%"
   ]
  },
  {
   "cell_type": "markdown",
   "metadata": {
    "collapsed": true
   },
   "source": [
    "## RMS neutral velocity\n",
    "\n",
    "Determine RMS neutral gas velocity at a certain temperature:\n",
    "\n",
    "$$\\sqrt{\\frac{3RT}{m}}$$"
   ]
  },
  {
   "cell_type": "code",
   "execution_count": 106,
   "metadata": {
    "scrolled": false
   },
   "outputs": [
    {
     "name": "stdout",
     "output_type": "stream",
     "text": [
      "RMS particle velocity: 1137.6 m/s\n",
      "RMS particle energy: 0.18096 eV\n"
     ]
    }
   ],
   "source": [
    "bowtie_rms_neutral_velocity = math.sqrt((3*constants.Boltzmann*bowtie_temperature)/(print_species.mass*amu))\n",
    "bowtie_rms_energy = 0.5*print_species.mass*amu*(bowtie_rms_neutral_velocity**2.0)\n",
    "print(\"RMS particle velocity: %0.5g m/s\" % bowtie_rms_neutral_velocity)\n",
    "print(\"RMS particle energy: %0.5g eV\" % (bowtie_rms_energy/constants.electron_volt))"
   ]
  },
  {
   "cell_type": "markdown",
   "metadata": {},
   "source": [
    "## Bowtie nozzle gas pressure\n",
    "\n",
    "Determine approximate neutral gas pressure in a virtual volume \"1 thermal velocity\" long via a simple \n",
    "\n",
    "$$\\text{PV}=\\text{nRT}$$\n",
    "\n",
    "(I'm not totally sure that you can do this.)\n",
    "\n",
    "Also approximately determine mean free path with the neutral Van Der Waals radius."
   ]
  },
  {
   "cell_type": "code",
   "execution_count": 107,
   "metadata": {
    "scrolled": true
   },
   "outputs": [
    {
     "name": "stdout",
     "output_type": "stream",
     "text": [
      "Bowtie nozzle pressure: 0.15395 Pa\n",
      "Approximate nozzle mean free path: 1.1805 m\n",
      "nrho: 1.5929e+23\n",
      "Knudsen number: local 3577.1, global 39.348\n",
      "Worst-case space charge density: 7.9646e+18\n"
     ]
    }
   ],
   "source": [
    "R_constant = constants.Boltzmann*constants.Avogadro\n",
    "\n",
    "#volume nozzle area times 1 thermal neutral injection velocity long\n",
    "nozzle_virtual_volume = (math.pi*(bowtie_nozzle_radius**2))*bowtie_rms_neutral_velocity\n",
    "\n",
    "bowtie_nozzle_pressure = ((moles_per_second/number_of_bowties)*R_constant*bowtie_temperature)/(nozzle_virtual_volume)\n",
    "\n",
    "mean_free_path = 1.0/(((atoms_per_second/number_of_bowties)/nozzle_virtual_volume)*math.pi*((print_species.vdw_radius*1e-12)**2))\n",
    "\n",
    "\n",
    "print(\"Bowtie nozzle pressure: %0.5g Pa\" % bowtie_nozzle_pressure)\n",
    "print(\"Approximate nozzle mean free path: %0.5g m\" % mean_free_path)\n",
    "\n",
    "#number density of atoms within that virtual volume - useful for DSMC stuff\n",
    "print(\"nrho: %0.5g\" % (atoms_per_second/nozzle_virtual_volume))\n",
    "\n",
    "print(\"Knudsen number: local %0.5g, global %0.5g\" % ((mean_free_path/bowtie_nozzle_radius),\n",
    "                                                     (mean_free_path/build_platform_distance)))\n",
    "\n",
    "print(\"Worst-case space charge density: %0.5g\" % ((atoms_per_second/number_of_bowties)/nozzle_virtual_volume))"
   ]
  },
  {
   "cell_type": "markdown",
   "metadata": {},
   "source": [
    "## Actual vapor pressure\n",
    "\n",
    "Now a rough approximation of the actual print species vapor pressure one can expect to find at that temperature:\n",
    "\n",
    "(likely off by at least 50% - https://www.iap.tuwien.ac.at/www/surface/vapor_pressure is a more accurate source)"
   ]
  },
  {
   "cell_type": "code",
   "execution_count": 108,
   "metadata": {},
   "outputs": [
    {
     "name": "stdout",
     "output_type": "stream",
     "text": [
      "Approx. species vapor pressure: 0.47493 Pa\n"
     ]
    }
   ],
   "source": [
    "vapor_pressure = Chemical(print_species.name).VaporPressure.calculate(bowtie_temperature,\"BOILING_CRITICAL\") # takes temp in K, returns pressure in P\n",
    "print(\"Approx. species vapor pressure: %0.5g Pa\" % vapor_pressure)"
   ]
  },
  {
   "cell_type": "markdown",
   "metadata": {},
   "source": [
    "## Bowtie radiation power loss\n",
    "\n",
    "Bowtie IR/Vis radiation power by the Stefan-Boltzmann law:"
   ]
  },
  {
   "cell_type": "code",
   "execution_count": 109,
   "metadata": {
    "scrolled": false
   },
   "outputs": [
    {
     "name": "stdout",
     "output_type": "stream",
     "text": [
      "Bowtie power: per 0.20694 W, total 4138.8 W\n"
     ]
    }
   ],
   "source": [
    "per_bowtie_power = (bowtie_hot_area * graphite_emissivity * constants.Stefan_Boltzmann * (bowtie_temperature**4.0))\n",
    "total_bowtie_power = per_bowtie_power*number_of_bowties\n",
    "\n",
    "print(\"Bowtie power: per %0.5g W, total %0.5g W\" % (per_bowtie_power,total_bowtie_power))\n"
   ]
  },
  {
   "cell_type": "markdown",
   "metadata": {},
   "source": [
    "# Ionization"
   ]
  },
  {
   "cell_type": "markdown",
   "metadata": {},
   "source": [
    "Simple first-ionization power consumption estimate"
   ]
  },
  {
   "cell_type": "code",
   "execution_count": 110,
   "metadata": {
    "scrolled": true
   },
   "outputs": [
    {
     "name": "stdout",
     "output_type": "stream",
     "text": [
      "Ionization power: per ~0.0029729 W, total 59.458 W\n"
     ]
    }
   ],
   "source": [
    "per_chamber_ionization_power = ((atoms_per_second/number_of_bowties)*print_species.ionenergies[1]*constants.electron_volt)\n",
    "\n",
    "total_ionization_power = per_chamber_ionization_power*number_of_bowties\n",
    "\n",
    "ionization_chamber_area = math.pi*(ionization_chamber_radius**2.0)\n",
    "\n",
    "print(\"Ionization power: per ~%0.5g W, total %0.5g W\" % (per_chamber_ionization_power,total_ionization_power))"
   ]
  },
  {
   "cell_type": "markdown",
   "metadata": {},
   "source": [
    "ICP acceleration field, (line integral of Maxwell's second equation, eq. 4.5-3 of \"Fundamentals\"):"
   ]
  },
  {
   "cell_type": "code",
   "execution_count": 111,
   "metadata": {},
   "outputs": [],
   "source": [
    "# (-(1.0j*2.0*math.pi*ICP_ionization_frequency)/2.0)*"
   ]
  },
  {
   "cell_type": "markdown",
   "metadata": {},
   "source": [
    " ## Assembly \n",
    " \n",
    " Charge assembly energy, circular approximation (eq. 8.7 FLP Vol II):\n",
    " \n",
    " TODO: add cylindrical eq. - this is horribly inaccurate, but at least it's an upper bound.\n",
    " \n",
    " FIXME:\n",
    " \n",
    " Total charge:\n",
    " $$ Q_T = \\text{pL}\\pi\\text{R}^2$$\n",
    " \n",
    " \n",
    " \n",
    " "
   ]
  },
  {
   "cell_type": "code",
   "execution_count": 112,
   "metadata": {
    "scrolled": true
   },
   "outputs": [
    {
     "name": "stdout",
     "output_type": "stream",
     "text": [
      "Charge assembly power: per ~1.1693 W, total 23385 W\n"
     ]
    }
   ],
   "source": [
    "ionization_chamber_volume = (math.pi*(ionization_chamber_radius**2))*bowtie_rms_neutral_velocity\n",
    "\n",
    "\n",
    "per_chamber_assembled_energy = (3.0/5.0)*(((atoms_per_second/number_of_bowties)* \\\n",
    "                                 (ionization_chamber_radius/bowtie_rms_neutral_velocity)*constants.e)**2.0) \\\n",
    "                                /(4.0*math.pi*constants.epsilon_0*ionization_chamber_radius)*(bowtie_rms_neutral_velocity/ionization_chamber_radius)\n",
    "\n",
    "print(\"Charge assembly power: per ~%0.5g W, total %0.5g W\" % (per_chamber_assembled_energy, per_chamber_assembled_energy*number_of_bowties))"
   ]
  },
  {
   "cell_type": "markdown",
   "metadata": {},
   "source": [
    "# Child-Langmuir Ion Current Limit\n",
    "\n",
    "$$ \\text{I} = \\frac{4}{9}\\epsilon_0 \\left(\\frac{-2q}{m} \\right) ^{0.5} \\frac{\\text{V}^{1.5}}{ \\text{D}^2} \\text{A} $$\n",
    "\n",
    "```\n",
    "I = beam current, amps\n",
    "V = acceleration voltage, volts\n",
    "q = ion charge, C\n",
    "m = ion mass, kg\n",
    "D = gap between acceleration plates, m\n",
    "A = area\n",
    "\n",
    "```\n",
    "\n",
    "Suggested reading:\n",
    "\n",
    "Fundamentals of Electric Propulsion, \"Basic plasma physics\". ../references/Fundamentals.pdf\n",
    "\n",
    "The Child-Langmuir Law, Stanford EDU, Lucas et al [1]\n",
    "\n",
    "[2]\n",
    "\n",
    "[1]: https://web.stanford.edu/~ajlucas/The%20Child-Langmuir%20Law.pdf\n",
    "\n",
    "[2]: http://www.physics.csbsju.edu/370/thermionic.pdf"
   ]
  },
  {
   "cell_type": "code",
   "execution_count": 113,
   "metadata": {
    "scrolled": true
   },
   "outputs": [
    {
     "name": "stdout",
     "output_type": "stream",
     "text": [
      "Child-langmuir ion current: 0.0034066 A/bowtie\n",
      "Total CL current: 68.133 A\n"
     ]
    }
   ],
   "source": [
    "def child_langmuir_current(voltage, charge, mass, gap, area):\n",
    "    return (4.0/9.0)*constants.epsilon_0*(((2.0*charge/(mass))**0.5)*((voltage**1.5)/(gap**2.0))) * area\n",
    "                                   \n",
    "per_chamber_CL_ion_current = child_langmuir_current(acceleration_voltage,constants.e,(print_species.mass*amu),acceleration_gap,ionization_chamber_area)\n",
    "                                   \n",
    "print(\"Child-langmuir ion current: %0.5g A/bowtie\" % per_chamber_CL_ion_current)\n",
    "print(\"Total CL current: %0.5g A\" % (per_chamber_CL_ion_current*number_of_bowties))\n"
   ]
  },
  {
   "cell_type": "markdown",
   "metadata": {},
   "source": [
    "# Acceleration & space charge\n"
   ]
  },
  {
   "cell_type": "code",
   "execution_count": 114,
   "metadata": {
    "scrolled": true
   },
   "outputs": [
    {
     "name": "stdout",
     "output_type": "stream",
     "text": [
      "Accel. vel: 23920 m/s\n",
      "Accel. power per chamber: 0.039733 W, total 794.66 W \n"
     ]
    }
   ],
   "source": [
    "acceleration_velocity = math.sqrt((2.0*acceleration_voltage*constants.electron_volt)/(print_species.mass*amu))\n",
    "\n",
    "print(\"Accel. vel: %0.5g m/s\" % acceleration_velocity)\n",
    "print(\"Accel. power per chamber: %0.5g W, total %0.5g W \" % (acceleration_voltage*per_chamber_beam_current\n",
    "                                                        ,acceleration_voltage*total_beam_current))"
   ]
  },
  {
   "cell_type": "code",
   "execution_count": 115,
   "metadata": {
    "scrolled": true
   },
   "outputs": [],
   "source": [
    "# Vkick"
   ]
  },
  {
   "cell_type": "markdown",
   "metadata": {},
   "source": [
    "https://cds.cern.ch/record/1005034/files/p27.pdf \n",
    "\n"
   ]
  },
  {
   "cell_type": "markdown",
   "metadata": {},
   "source": [
    "https://arxiv.org/pdf/1401.3951.pdf\n",
    "\n"
   ]
  },
  {
   "cell_type": "code",
   "execution_count": 116,
   "metadata": {
    "scrolled": false
   },
   "outputs": [
    {
     "name": "stdout",
     "output_type": "stream",
     "text": [
      "Required focus field: 1.1882e+05 V/m\n",
      "Required focus voltage: ~29.704 V\n"
     ]
    }
   ],
   "source": [
    "beam_exit_velocity = bowtie_rms_neutral_velocity+acceleration_velocity\n",
    "\n",
    "focus_field = util.scharge_efield(per_chamber_beam_current,beam_exit_velocity,ionization_chamber_radius)\n",
    "print(\"Required focus field: %0.5g V/m\" % focus_field)\n",
    "\n",
    "#sine focus voltage equation would be nice\n",
    "print(\"Required focus voltage: ~%0.5g V\" % (focus_field*(acceleration_gap)))\n"
   ]
  },
  {
   "cell_type": "markdown",
   "metadata": {},
   "source": [
    "# Warp acceleration gap sim\n",
    "\n",
    "This required a modification to warp - line 28 of warp.py needs to have \n",
    "```\n",
    "try:\n",
    "    __IPYTHON__\n",
    "    pass\n",
    "except NameError:\n",
    "    warpoptions.parse_args()\n",
    "```"
   ]
  },
  {
   "cell_type": "code",
   "execution_count": 117,
   "metadata": {
    "scrolled": true
   },
   "outputs": [
    {
     "name": "stdout",
     "output_type": "stream",
     "text": [
      " ***  particle simulation package W3D generating\n",
      " ---  Resetting lattice array sizes\n",
      " ---  Allocating space for particles\n",
      " ---  Loading particles\n",
      " ---  Setting charge density\n",
      " ---  done\n",
      " ---  Allocating Win_Moments\n",
      " ---  Allocating Z_Moments\n",
      " ---  Allocating Lab_Moments\n",
      " Atomic number of ion =  0.0000E+00\n",
      " Charge state of ion  =  0.0000E+00\n",
      " Initial X, Y emittances =  0.0000E+00,   0.0000E+00 m-rad\n",
      " Initial X,Y envelope radii  =  0.0000E+00,   0.0000E+00 m\n",
      " Initial X,Y envelope angles =  0.0000E+00,   0.0000E+00 rad\n",
      " Input beam current =  0.0000E+00 amps\n",
      " Current density =  0.0000E+00 amps/m**2\n",
      " Charge density =  0.0000E+00 Coul/m**3\n",
      " Number density =  0.0000E+00\n",
      " Plasma frequency     =  0.0000E+00 1/s\n",
      "    times dt          =  0.0000E+00\n",
      "    times quad period =  0.0000E+00\n",
      " Plasma period        =  6.2832E+36 s\n",
      " X-, Y-Thermal Velocities     =  0.0000E+00,   0.0000E+00 m/s\n",
      "    times dt                  =  0.0000E+00,   0.0000E+00 m\n",
      "    times dt/dx, dt/dy (X, Y) =  0.0000E+00,   0.0000E+00\n",
      " X-, Y-Debye Wavelengths  =  0.0000E+00,   0.0000E+00 m\n",
      "    over dx, dy (X and Y) =  0.0000E+00,   0.0000E+00\n",
      " Longitudinal thermal velocity (rms) =  0.0000E+00 m/s\n",
      "    times dt                   =  0.0000E+00 m\n",
      "    times dt/dz                =  0.0000E+00\n",
      " Longitudinal Debye wavelength =  0.0000E+00 m\n",
      "    over dz                    =  0.0000E+00\n",
      " Beam velocity =  0.0000E+00 m/s\n",
      "    over c     =  0.0000E+00\n",
      " Kinetic energy =  0.0000E+00 eV\n",
      " Weight of simulation particles =  0.0000E+00\n",
      " Number of simulation particles =            0\n",
      " Number of real particles =  0.0000E+00\n",
      " Total mass =  0.0000E+00 kg\n",
      " Total charge =  0.0000E+00 Coul\n",
      " Generalized perveance =  0.0000E+00\n",
      " Characteristic current =  0.0000E+00 amps\n",
      " Budker parameter =  0.0000E+00\n",
      " Timestep size dt =  0.0000E+00 s\n",
      " Tune length =  0.0000E+00\n",
      " Undep. X-, Y-Betatron frequencies  =  6.2832E+36,   6.2832E+36 1/s\n",
      " Undep. X-, Y-Betatron periods      =  0.0000E+00,   0.0000E+00 s\n",
      " Undep. X-, Y-Betatron wavelengths  =  0.0000E+00,   0.0000E+00 m\n",
      " Dep.   X-, Y-Betatron frequencies  =  6.2832E+36,   6.2832E+36 1/s\n",
      " Dep.   X-, Y-Betatron periods      =  0.0000E+00,   0.0000E+00 s\n",
      " X-, Y-Tune Depressions (sigma/sigma0) =  0.0000E+00,   0.0000E+00\n",
      " Space charge wave velocity =  0.0000E+00 m/s\n",
      " Effective wall radius =  3.0000E-03 m\n",
      " Geometric factor =  7.1275E+01\n",
      " X-, Y-Emittance over Space charge forces =  0.0000E+00,   0.0000E+00\n",
      " Number of grid points in x =       32\n",
      " Number of grid points in y =        0\n",
      " Number of grid points in z =       32\n",
      " Grid spacing in x =  9.3750E-05 m\n",
      " Grid spacing in y =  9.3750E-05 m\n",
      " Grid spacing in z =  3.1250E-04 m\n",
      " Bend radius =  0.0000E+00 m\n",
      " Bending field =  0.0000E+00 T\n",
      " Bend length =  0.0000E+00 m\n",
      " Straight section length =  0.0000E+00 m\n",
      " Z at start of first bend =  0.0000E+00 m\n",
      "Multigrid2d: Error converged to   4.115E-05 in     1 v-cycles           \n",
      "Multigrid2d: Error converged to   0.000E+00 in     1 v-cycles           \n",
      "Multigrid2d: Error converged to   0.000E+00 in     1 v-cycles           \n",
      "Multigrid2d: Error converged to   0.000E+00 in     1 v-cycles           \n",
      "Multigrid2d: Error converged to   0.000E+00 in     1 v-cycles           \n",
      "Multigrid2d: Error converged to   0.000E+00 in     1 v-cycles           \n",
      "Multigrid2d: Error converged to   0.000E+00 in     1 v-cycles           \n",
      "Multigrid2d: Error converged to   0.000E+00 in     1 v-cycles           \n",
      "Multigrid2d: Error converged to   0.000E+00 in     1 v-cycles           \n",
      "Multigrid2d: Error converged to   0.000E+00 in     1 v-cycles           \n",
      "Multigrid2d: Error converged to   0.000E+00 in     1 v-cycles           \n",
      "Multigrid2d: Error converged to   0.000E+00 in     1 v-cycles           \n",
      "Multigrid2d: Error converged to   0.000E+00 in     1 v-cycles           \n",
      "Multigrid2d: Error converged to   0.000E+00 in     1 v-cycles           \n",
      "Multigrid2d: Error converged to   0.000E+00 in     1 v-cycles           \n",
      "it =     12 time = 0.0000E+00 pz = 0.0000E+00 ese = 0.0000E+00 ek = 0.0000E+00 et = 0.0000E+00\n",
      "Multigrid2d: Error converged to   2.760E-05 in     1 v-cycles           \n",
      "Multigrid2d: Error converged to   0.000E+00 in     1 v-cycles           \n",
      "Multigrid2d: Error converged to   0.000E+00 in     1 v-cycles           \n",
      "Multigrid2d: Error converged to   0.000E+00 in     1 v-cycles           \n",
      "Multigrid2d: Error converged to   0.000E+00 in     1 v-cycles           \n",
      "Multigrid2d: Error converged to   0.000E+00 in     1 v-cycles           \n",
      "Multigrid2d: Error converged to   0.000E+00 in     1 v-cycles           \n",
      "Multigrid2d: Error converged to   0.000E+00 in     1 v-cycles           \n",
      "Multigrid2d: Error converged to   0.000E+00 in     1 v-cycles           \n",
      "Multigrid2d: Error converged to   0.000E+00 in     1 v-cycles           \n",
      "Multigrid2d: Error converged to   0.000E+00 in     1 v-cycles           \n",
      "Multigrid2d: Error converged to   0.000E+00 in     1 v-cycles           \n",
      "Multigrid2d: Error converged to   0.000E+00 in     1 v-cycles           \n",
      "Multigrid2d: Error converged to   0.000E+00 in     1 v-cycles           \n",
      "Multigrid2d: Error converged to   0.000E+00 in     1 v-cycles           \n",
      "it =     13 time = 0.0000E+00 pz = 0.0000E+00 ese = 0.0000E+00 ek = 0.0000E+00 et = 0.0000E+00\n"
     ]
    },
    {
     "data": {
      "text/plain": [
       "(array([0., 0., 0., 0., 0., 0.]),\n",
       " array([0., 0., 0., 0., 0., 0.]),\n",
       " array([0., 0., 0., 0., 0., 0.]),\n",
       " array([0., 0., 0., 0., 0., 0.]),\n",
       " array([0., 0., 0., 0., 0., 0.]),\n",
       " array([0., 0., 0., 0., 0., 0.]))"
      ]
     },
     "execution_count": 117,
     "metadata": {},
     "output_type": "execute_result"
    }
   ],
   "source": [
    "from warp import *\n",
    "\n",
    "w3d.solvergeom = w3d.RZgeom\n",
    "\n",
    "w3d.bound0 = dirichlet\n",
    "w3d.boundnz = neumann\n",
    "w3d.boundxy = neumann\n",
    "# ---   for particles\n",
    "top.pbound0 = absorb\n",
    "top.pboundnz = absorb\n",
    "top.prwall = ionization_chamber_radius\n",
    "\n",
    "# --- Set field grid size\n",
    "w3d.xmmin = -ionization_chamber_radius\n",
    "w3d.xmmax = +ionization_chamber_radius\n",
    "w3d.ymmin = -ionization_chamber_radius\n",
    "w3d.ymmax = +ionization_chamber_radius\n",
    "w3d.zmmin = 0.\n",
    "w3d.zmmax = ionization_chamber_length\n",
    "\n",
    "# --- Field grid dimensions - note that nx and ny must be even.\n",
    "w3d.nx = w3d.ny = 32\n",
    "w3d.nz = 32\n",
    "\n",
    "f3d.mgtol = 1.e-1 # Multigrid solver convergence tolerance, in volts\n",
    "\n",
    "\n",
    "plate = ZRoundedCylinderOut(radius=0.0001, length=0.0001, radius2=0.00001, voltage=100.0, zcent=0.01)\n",
    "\n",
    "installconductor(plate,dfill=largepos)\n",
    "\n",
    "solver = MultiGrid2D()\n",
    "registersolver(solver)\n",
    "\n",
    "package(\"w3d\")\n",
    "generate()\n",
    "\n",
    "step()\n",
    "\n",
    "getappliedfields(x=np.arange(-ionization_chamber_radius,ionization_chamber_radius,0.001),\n",
    "                 y=np.arange(-ionization_chamber_radius,ionization_chamber_radius,0.001),\n",
    "                 z=0.0)\n"
   ]
  },
  {
   "cell_type": "markdown",
   "metadata": {},
   "source": [
    "# Recombination\n",
    "\n",
    "## Child-Langmuir recombination current\n"
   ]
  },
  {
   "cell_type": "code",
   "execution_count": 118,
   "metadata": {
    "scrolled": false
   },
   "outputs": [
    {
     "name": "stdout",
     "output_type": "stream",
     "text": [
      "Child-langmuir electron current: 0.75551 A/bowtie\n",
      "Total CL e current: 15110 A\n"
     ]
    }
   ],
   "source": [
    "per_chamber_CL_electron_current = child_langmuir_current(acceleration_voltage,constants.e,constants.electron_mass,acceleration_gap,ionization_chamber_area)\n",
    "\n",
    "print(\"Child-langmuir electron current: %0.5g A/bowtie\" % per_chamber_CL_electron_current )\n",
    "print(\"Total CL e current: %0.5g A\" % (per_chamber_CL_electron_current*number_of_bowties))\n"
   ]
  },
  {
   "cell_type": "markdown",
   "metadata": {},
   "source": [
    "## Hot cathode"
   ]
  },
  {
   "cell_type": "markdown",
   "metadata": {},
   "source": [
    "# Part heating\n",
    "\n",
    "The beam heat flux will cause a temperature gradient from the chilled build platform to the extreme end of the printed part. Assuming a constant cross section, the peak temperature will be\n",
    "\n",
    "$$ \\frac{\\text{(P/A)}}{k}L = \\Delta \\text{T} \\\\ \\Delta \\text{T} + \\text{T}_i = T $$\n",
    "\n",
    "```\n",
    "P = Power applied at surface, W\n",
    "A = Area of the part, m^2\n",
    "k = Thermal conductivity of material, W/m-K\n",
    "L = Length, M\n",
    "T = Change in temperature across material, K\n",
    "Ti = Build platform temperature\n",
    "```\n",
    "\n",
    "Ionization power is likely emitted in the form of photons at recombination, and so should be neglected.\n",
    "\n",
    "\n",
    "http://web.mit.edu/16.unified/www/SPRING/propulsion/notes/node116.html\n",
    "\n",
    "TODO: \n",
    "- Add radiation here. A bit tricky, since the temperature's not constant.\n",
    "- Add some kind of duty cycle approximation?\n",
    "- cool graph"
   ]
  },
  {
   "cell_type": "code",
   "execution_count": 119,
   "metadata": {},
   "outputs": [
    {
     "name": "stdout",
     "output_type": "stream",
     "text": [
      "Part peak temperature: 300.59 K\n"
     ]
    }
   ],
   "source": [
    "print_area = 0.01*0.1 #m^2\n",
    "printed_object_height = 0.03 #m\n",
    "build_platform_temperature = 200.0 #Kelvin - likely liquid-cooled \n",
    "\n",
    "printed_emissivity = 0.05\n",
    "beam_power = (acceleration_voltage*total_beam_current)\n",
    "\n",
    "part_peak_temperature = (((beam_power/print_area)/print_species.thermal_conductivity)*printed_object_height)+build_platform_temperature\n",
    "print(\"Part peak temperature: %0.5g K\" % (part_peak_temperature))\n",
    "\n",
    "\n",
    "# per_bowtie_power = (bowtie_hot_area * printed_emissivity * constants.Stefan_Boltzmann * (bowtie_temperature**4.0))\n"
   ]
  },
  {
   "cell_type": "markdown",
   "metadata": {},
   "source": [
    "# A final tally"
   ]
  },
  {
   "cell_type": "code",
   "execution_count": 120,
   "metadata": {},
   "outputs": [
    {
     "name": "stdout",
     "output_type": "stream",
     "text": [
      "Total power consumption: 4992.9 W\n",
      "Print head area: 0.56549 m^2 (a square 0.75199 m to the side)\n"
     ]
    }
   ],
   "source": [
    "total_power_consumption = total_bowtie_power + (acceleration_voltage*total_beam_current) + total_ionization_power\n",
    "print(\"Total power consumption: %0.5g W\" % (total_power_consumption))\n",
    "\n",
    "print(\"Print head area: %0.5g m^2 (a square %0.5g m to the side)\" % ((ionization_chamber_area*number_of_bowties),((ionization_chamber_area*number_of_bowties)**0.5)))\n"
   ]
  },
  {
   "cell_type": "code",
   "execution_count": 121,
   "metadata": {},
   "outputs": [
    {
     "name": "stdout",
     "output_type": "stream",
     "text": [
      "Print cost: 499.29 W/g, $10.206/100g\n"
     ]
    }
   ],
   "source": [
    "#economics!\n",
    "\n",
    "cost_per_watt = 0.2/1000.0 #20 cents per kilowatt\n",
    "\n",
    "consumable_cost = 200.0/1000.0 #dollars per 1000 hours\n",
    "\n",
    "material_cost = 20.0/1000.0 #dollars per gram\n",
    "\n",
    "watts_per_gram = total_power_consumption/print_speed_g_h\n",
    "\n",
    "print(\"Print cost: %0.5g W/g, $%0.5g/100g\" % ((watts_per_gram),(cost_per_watt*watts_per_gram*100.0+material_cost+consumable_cost)))\n"
   ]
  }
 ],
 "metadata": {
  "kernelspec": {
   "display_name": "Python 2",
   "language": "python",
   "name": "python2"
  },
  "language_info": {
   "codemirror_mode": {
    "name": "ipython",
    "version": 2
   },
   "file_extension": ".py",
   "mimetype": "text/x-python",
   "name": "python",
   "nbconvert_exporter": "python",
   "pygments_lexer": "ipython2",
   "version": "2.7.13"
  }
 },
 "nbformat": 4,
 "nbformat_minor": 2
}
