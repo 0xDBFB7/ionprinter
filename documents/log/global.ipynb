{
 "cells": [
  {
   "cell_type": "code",
   "execution_count": 128,
   "metadata": {},
   "outputs": [],
   "source": [
    "# from thermo.chemical import Chemical\n",
    "\n",
    "# emissivity = 0\n",
    "# temperature = 1900 #kelvin\n",
    "\n",
    "# boltzmann_constant = 5.6703e-10 \n",
    "\n",
    "# test this is \n",
    "\n",
    "# aluminium = Chemical('aluminium')\n",
    "\n",
    "# aluminium_vapor_pressure = aluminium.VaporPressure.calculate(2000,\"BOILING_CRITICAL\") # takes temp in K, returns pressure in Pa\n",
    "#                                                                                       # not accurate!\n",
    "# print(aluminium_vapor_pressure)\n",
    "\n",
    "# graphite = Chemical('carbon|solid')\n",
    "# graphite_vapor_pressure = graphite.VaporPressure.T_dependent_property(1900) # takes temp in K, returns pressure in Pa\n",
    "# print(graphite_vapor_pressure)"
   ]
  },
  {
   "cell_type": "code",
   "execution_count": 129,
   "metadata": {},
   "outputs": [],
   "source": [
    "#Boltzman power consumption\n",
    "\n",
    "\n",
    "emissivity = 0\n",
    "temperature = 1900 #kelvin\n",
    "boltzmann_constant = 5.6703e-10\n"
   ]
  },
  {
   "cell_type": "code",
   "execution_count": 130,
   "metadata": {},
   "outputs": [],
   "source": [
    "from mendeleev import element\n",
    "import sympy.physics.units as units\n",
    "import scipy.constants as constants\n",
    "amu = constants.physical_constants[\"atomic mass unit-kilogram relationship\"][0]\n",
    "import math\n",
    "import sys\n",
    "sys.path.insert(0, '../../files/ionprinter/simulation/utilities/')\n",
    "import util"
   ]
  },
  {
   "cell_type": "code",
   "execution_count": 131,
   "metadata": {
    "scrolled": true
   },
   "outputs": [],
   "source": [
    "#Bowtie inputs:\n",
    "\n",
    "print_species = element('Al')\n",
    "\n",
    "print_speed = 10.0 #g/hour\n",
    "\n",
    "print_speed /= 1000.0\n",
    "print_speed /= 3600.0\n",
    "\n",
    "number_of_bowties = 128\n",
    "\n",
    "bowtie_nozzle_radius = 0.00033#m\n",
    "bowtie_hot_area = 0.001 #m\n",
    "\n",
    "bowtie_temperature = 2000.0 #Kelvin\n",
    "\n",
    "# import pandas as pd\n",
    "# data = [[1, 2], [3, 4]]\n",
    "# pd.DataFrame(data, columns=[\"Foo\", \"Bar\"])\n",
    "\n",
    "\n",
    "#chamber inputs\n",
    "\n",
    "ionization_chamber_radius = 0.0015 #m\n",
    "ionization_chamber_length = 0.01 #m\n",
    "acceleration_voltage = 15 #v\n",
    "\n",
    "build_platform_distance = 0.03 #m"
   ]
  },
  {
   "cell_type": "code",
   "execution_count": null,
   "metadata": {},
   "outputs": [],
   "source": []
  },
  {
   "cell_type": "code",
   "execution_count": 132,
   "metadata": {
    "scrolled": true
   },
   "outputs": [
    {
     "name": "stdout",
     "output_type": "stream",
     "text": [
      "Atoms per second: 6.1999e+19 atoms/s\n",
      "Moles per second: 0.00010295 M/s\n",
      "Print volume: 3.7052 cm^3/s\n",
      "Total beam current: 9.9333 Amps\n",
      "Per-chamber current: 0.077604 Amps\n"
     ]
    }
   ],
   "source": [
    "atoms_per_second = print_speed/(print_species.mass*amu)\n",
    "moles_per_second = atoms_per_second/constants.Avogadro\n",
    "print_volume = ((print_speed*3600.0)/(print_species.density*1000.0))/1.0e-6\n",
    "\n",
    "total_beam_current = atoms_per_second*constants.elementary_charge\n",
    "per_chamber_beam_current = total_beam_current/number_of_bowties\n",
    "\n",
    "print(\"Atoms per second: %0.5g atoms/s\" % atoms_per_second)\n",
    "print(\"Moles per second: %0.5g M/s\" % moles_per_second)\n",
    "print(\"Print volume: %0.5g cm^3/s\" % print_volume)\n",
    "print(\"Total beam current: %0.5g Amps\" % total_beam_current)\n",
    "print(\"Per-chamber current: %0.5g Amps\" % per_chamber_beam_current)\n",
    "\n",
    "#I find it infinitely amusing that \"40 amps of aluminum\" is \"40 grams per second of aluminum\" within 0.6%"
   ]
  },
  {
   "cell_type": "markdown",
   "metadata": {
    "collapsed": true
   },
   "source": [
    "Determine RMS neutral gas velocity at a certain temperature:"
   ]
  },
  {
   "cell_type": "markdown",
   "metadata": {},
   "source": [
    "$$\\sqrt{\\frac{3RT}{m}}$$"
   ]
  },
  {
   "cell_type": "code",
   "execution_count": 133,
   "metadata": {
    "scrolled": false
   },
   "outputs": [
    {
     "name": "stdout",
     "output_type": "stream",
     "text": [
      "RMS particle velocity: 1359.8 m/s\n"
     ]
    }
   ],
   "source": [
    "bowtie_rms_neutral_velocity = math.sqrt((3*constants.Boltzmann*bowtie_temperature)/(print_species.mass*amu))\n",
    "print(\"RMS particle velocity: %0.5g m/s\" % bowtie_rms_neutral_velocity)"
   ]
  },
  {
   "cell_type": "markdown",
   "metadata": {},
   "source": [
    "Determine approximate neutral gas pressure:\n",
    "\n",
    "(I'm not even sure that you can do this.)\n",
    "$$\\text{PV}=\\text{nRT}$$"
   ]
  },
  {
   "cell_type": "code",
   "execution_count": 134,
   "metadata": {
    "scrolled": true
   },
   "outputs": [
    {
     "name": "stdout",
     "output_type": "stream",
     "text": [
      "Bowtie nozzle pressure: 28.751 Pa\n",
      "Approximate nozzle mean free path: 0.0090298 m\n",
      "Knudsen number: local 27.363, global 0.30099\n"
     ]
    }
   ],
   "source": [
    "R_constant = constants.Boltzmann*constants.Avogadro\n",
    "\n",
    "nozzle_volume = (math.pi*(bowtie_nozzle_radius**2))*bowtie_rms_neutral_velocity\n",
    "\n",
    "bowtie_nozzle_pressure = ((moles_per_second/number_of_bowties)*R_constant*bowtie_temperature)/(nozzle_volume)\n",
    "\n",
    "mean_free_path = 1.0/(((atoms_per_second/number_of_bowties)/nozzle_volume)*math.pi*((print_species.vdw_radius*1e-12)**2))\n",
    "\n",
    "print(\"Bowtie nozzle pressure: %0.5g Pa\" % bowtie_nozzle_pressure)\n",
    "print(\"Approximate nozzle mean free path: %0.5g m\" % mean_free_path)\n",
    "\n",
    "\n",
    "print(\"Knudsen number: local %0.5g, global %0.5g\" % ((mean_free_path/bowtie_nozzle_radius),\n",
    "                                                     (mean_free_path/build_platform_distance)))\n",
    "\n"
   ]
  },
  {
   "cell_type": "code",
   "execution_count": null,
   "metadata": {},
   "outputs": [],
   "source": []
  },
  {
   "cell_type": "code",
   "execution_count": 135,
   "metadata": {
    "scrolled": true
   },
   "outputs": [
    {
     "name": "stdout",
     "output_type": "stream",
     "text": [
      "Accel. vel: 10358 m/s\n",
      "Accel. power per chamber: 1.1641 W, total 149 W \n",
      "Required focus field: 7.9403e+07 V/m\n",
      "Required focus voltage: ~23821 V\n"
     ]
    }
   ],
   "source": [
    "acceleration_velocity = math.sqrt((2.0*15*constants.electron_volt)/(print_species.mass*amu))\n",
    "print(\"Accel. vel: %0.5g m/s\" % acceleration_velocity)\n",
    "print(\"Accel. power per chamber: %0.5g W, total %0.5g W \" % (acceleration_voltage*per_chamber_beam_current\n",
    "                                                        ,acceleration_voltage*total_beam_current))\n",
    "\n",
    "beam_exit_velocity = bowtie_rms_neutral_velocity+acceleration_velocity\n",
    "\n",
    "focus_field = util.scharge_efield(per_chamber_beam_current,beam_exit_velocity,ionization_chamber_radius)\n",
    "print(\"Required focus field: %0.5g V/m\" % focus_field)\n",
    "\n",
    "#sine focus voltage equation would be nice\n",
    "print(\"Required focus voltage: ~%0.5g V\" % (focus_field*(ionization_chamber_radius/5.0)))\n"
   ]
  },
  {
   "cell_type": "code",
   "execution_count": null,
   "metadata": {},
   "outputs": [],
   "source": []
  },
  {
   "cell_type": "code",
   "execution_count": null,
   "metadata": {},
   "outputs": [],
   "source": []
  },
  {
   "cell_type": "code",
   "execution_count": null,
   "metadata": {},
   "outputs": [],
   "source": []
  },
  {
   "cell_type": "code",
   "execution_count": null,
   "metadata": {},
   "outputs": [],
   "source": []
  }
 ],
 "metadata": {
  "kernelspec": {
   "display_name": "Python 2",
   "language": "python",
   "name": "python2"
  },
  "language_info": {
   "codemirror_mode": {
    "name": "ipython",
    "version": 2
   },
   "file_extension": ".py",
   "mimetype": "text/x-python",
   "name": "python",
   "nbconvert_exporter": "python",
   "pygments_lexer": "ipython2",
   "version": "2.7.13"
  }
 },
 "nbformat": 4,
 "nbformat_minor": 2
}
